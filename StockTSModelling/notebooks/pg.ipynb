{
 "cells": [
  {
   "cell_type": "code",
   "execution_count": 1,
   "metadata": {},
   "outputs": [],
   "source": [
    "import numpy as np\n",
    "import pandas as pd\n",
    "import torch\n",
    "import torch.nn as nn\n",
    "import torch.optim as optim\n",
    "import yfinance as yf\n",
    "from sklearn.preprocessing import MinMaxScaler\n",
    "import matplotlib.pyplot as plt\n",
    "from models import LSTMModel, attentional_LSTM\n",
    "import random"
   ]
  },
  {
   "cell_type": "code",
   "execution_count": 2,
   "metadata": {},
   "outputs": [],
   "source": [
    "device = torch.device(\"cuda\" if torch.cuda.is_available() else \"cpu\")\n",
    "random.seed(42)"
   ]
  },
  {
   "cell_type": "code",
   "execution_count": 3,
   "metadata": {},
   "outputs": [
    {
     "name": "stderr",
     "output_type": "stream",
     "text": [
      "[*********************100%***********************]  1 of 1 completed\n"
     ]
    },
    {
     "data": {
      "text/html": [
       "<div>\n",
       "<style scoped>\n",
       "    .dataframe tbody tr th:only-of-type {\n",
       "        vertical-align: middle;\n",
       "    }\n",
       "\n",
       "    .dataframe tbody tr th {\n",
       "        vertical-align: top;\n",
       "    }\n",
       "\n",
       "    .dataframe thead tr th {\n",
       "        text-align: left;\n",
       "    }\n",
       "\n",
       "    .dataframe thead tr:last-of-type th {\n",
       "        text-align: right;\n",
       "    }\n",
       "</style>\n",
       "<table border=\"1\" class=\"dataframe\">\n",
       "  <thead>\n",
       "    <tr>\n",
       "      <th>Price</th>\n",
       "      <th>Close</th>\n",
       "      <th>High</th>\n",
       "      <th>Low</th>\n",
       "      <th>Open</th>\n",
       "      <th>Volume</th>\n",
       "    </tr>\n",
       "    <tr>\n",
       "      <th>Ticker</th>\n",
       "      <th>NVDA</th>\n",
       "      <th>NVDA</th>\n",
       "      <th>NVDA</th>\n",
       "      <th>NVDA</th>\n",
       "      <th>NVDA</th>\n",
       "    </tr>\n",
       "    <tr>\n",
       "      <th>Date</th>\n",
       "      <th></th>\n",
       "      <th></th>\n",
       "      <th></th>\n",
       "      <th></th>\n",
       "      <th></th>\n",
       "    </tr>\n",
       "  </thead>\n",
       "  <tbody>\n",
       "    <tr>\n",
       "      <th>2015-01-02</th>\n",
       "      <td>0.483144</td>\n",
       "      <td>0.486744</td>\n",
       "      <td>0.475463</td>\n",
       "      <td>0.483144</td>\n",
       "      <td>113680000</td>\n",
       "    </tr>\n",
       "    <tr>\n",
       "      <th>2015-01-05</th>\n",
       "      <td>0.474983</td>\n",
       "      <td>0.484584</td>\n",
       "      <td>0.472823</td>\n",
       "      <td>0.483144</td>\n",
       "      <td>197952000</td>\n",
       "    </tr>\n",
       "    <tr>\n",
       "      <th>2015-01-06</th>\n",
       "      <td>0.460582</td>\n",
       "      <td>0.476183</td>\n",
       "      <td>0.460102</td>\n",
       "      <td>0.475703</td>\n",
       "      <td>197764000</td>\n",
       "    </tr>\n",
       "    <tr>\n",
       "      <th>2015-01-07</th>\n",
       "      <td>0.459382</td>\n",
       "      <td>0.468023</td>\n",
       "      <td>0.457942</td>\n",
       "      <td>0.463943</td>\n",
       "      <td>321808000</td>\n",
       "    </tr>\n",
       "    <tr>\n",
       "      <th>2015-01-08</th>\n",
       "      <td>0.476663</td>\n",
       "      <td>0.479543</td>\n",
       "      <td>0.464423</td>\n",
       "      <td>0.464663</td>\n",
       "      <td>283780000</td>\n",
       "    </tr>\n",
       "    <tr>\n",
       "      <th>...</th>\n",
       "      <td>...</td>\n",
       "      <td>...</td>\n",
       "      <td>...</td>\n",
       "      <td>...</td>\n",
       "      <td>...</td>\n",
       "    </tr>\n",
       "    <tr>\n",
       "      <th>2024-12-24</th>\n",
       "      <td>140.220001</td>\n",
       "      <td>141.899994</td>\n",
       "      <td>138.649994</td>\n",
       "      <td>140.000000</td>\n",
       "      <td>105157000</td>\n",
       "    </tr>\n",
       "    <tr>\n",
       "      <th>2024-12-26</th>\n",
       "      <td>139.929993</td>\n",
       "      <td>140.850006</td>\n",
       "      <td>137.729996</td>\n",
       "      <td>139.699997</td>\n",
       "      <td>116205600</td>\n",
       "    </tr>\n",
       "    <tr>\n",
       "      <th>2024-12-27</th>\n",
       "      <td>137.009995</td>\n",
       "      <td>139.020004</td>\n",
       "      <td>134.710007</td>\n",
       "      <td>138.550003</td>\n",
       "      <td>170582600</td>\n",
       "    </tr>\n",
       "    <tr>\n",
       "      <th>2024-12-30</th>\n",
       "      <td>137.490005</td>\n",
       "      <td>140.270004</td>\n",
       "      <td>134.020004</td>\n",
       "      <td>134.830002</td>\n",
       "      <td>167734700</td>\n",
       "    </tr>\n",
       "    <tr>\n",
       "      <th>2024-12-31</th>\n",
       "      <td>134.289993</td>\n",
       "      <td>138.070007</td>\n",
       "      <td>133.830002</td>\n",
       "      <td>138.029999</td>\n",
       "      <td>155659200</td>\n",
       "    </tr>\n",
       "  </tbody>\n",
       "</table>\n",
       "<p>2516 rows × 5 columns</p>\n",
       "</div>"
      ],
      "text/plain": [
       "Price            Close        High         Low        Open     Volume\n",
       "Ticker            NVDA        NVDA        NVDA        NVDA       NVDA\n",
       "Date                                                                 \n",
       "2015-01-02    0.483144    0.486744    0.475463    0.483144  113680000\n",
       "2015-01-05    0.474983    0.484584    0.472823    0.483144  197952000\n",
       "2015-01-06    0.460582    0.476183    0.460102    0.475703  197764000\n",
       "2015-01-07    0.459382    0.468023    0.457942    0.463943  321808000\n",
       "2015-01-08    0.476663    0.479543    0.464423    0.464663  283780000\n",
       "...                ...         ...         ...         ...        ...\n",
       "2024-12-24  140.220001  141.899994  138.649994  140.000000  105157000\n",
       "2024-12-26  139.929993  140.850006  137.729996  139.699997  116205600\n",
       "2024-12-27  137.009995  139.020004  134.710007  138.550003  170582600\n",
       "2024-12-30  137.490005  140.270004  134.020004  134.830002  167734700\n",
       "2024-12-31  134.289993  138.070007  133.830002  138.029999  155659200\n",
       "\n",
       "[2516 rows x 5 columns]"
      ]
     },
     "execution_count": 3,
     "metadata": {},
     "output_type": "execute_result"
    }
   ],
   "source": [
    "df = yf.download('NVDA', start='2015-01-01', end='2025-01-01')\n",
    "df\n"
   ]
  },
  {
   "cell_type": "code",
   "execution_count": 4,
   "metadata": {},
   "outputs": [
    {
     "data": {
      "text/plain": [
       "(array([0.45938236]), array([148.86975098]))"
      ]
     },
     "execution_count": 4,
     "metadata": {},
     "output_type": "execute_result"
    }
   ],
   "source": [
    "data = df[['Close']].values\n",
    "min(data),  max(data)\n",
    "\n"
   ]
  },
  {
   "cell_type": "code",
   "execution_count": 5,
   "metadata": {},
   "outputs": [],
   "source": [
    "scaler = MinMaxScaler(feature_range=(0,1))\n",
    "data_scaled = scaler.fit_transform(data)\n",
    "\n",
    "def create_sequences(data, seq_length):\n",
    "    X, y = [], []\n",
    "    for i in range(len(data) - seq_length):\n",
    "        X.append(data[i:i+seq_length]) #overlapping seqs\n",
    "        y.append(data[i+seq_length]) #next day close as target \n",
    "\n",
    "    X ,y = np.array(X), np.array(y)\n",
    "    return torch.tensor(X, dtype=torch.float32), torch.tensor(y, dtype=torch.float32)\n",
    "\n",
    "seq_length = 60  \n",
    "X, y = create_sequences(data_scaled, seq_length)\n",
    "\n",
    "train_size = int(len(X) * 0.8)\n",
    "X_train, X_test = X[:train_size], X[train_size:]\n",
    "y_train, y_test = y[:train_size], y[train_size:]\n",
    "\n",
    "X_train = X_train.view(-1, seq_length, 1)\n",
    "X_test = X_test.view(-1, seq_length, 1)"
   ]
  },
  {
   "cell_type": "code",
   "execution_count": 6,
   "metadata": {},
   "outputs": [
    {
     "data": {
      "text/plain": [
       "(2456,\n",
       " tensor([[3.0252e-04],\n",
       "         [3.1550e-04],\n",
       "         [3.2362e-04],\n",
       "         ...,\n",
       "         [9.2009e-01],\n",
       "         [9.2332e-01],\n",
       "         [9.0176e-01]]))"
      ]
     },
     "execution_count": 6,
     "metadata": {},
     "output_type": "execute_result"
    }
   ],
   "source": [
    "len(X), y"
   ]
  },
  {
   "cell_type": "code",
   "execution_count": 10,
   "metadata": {},
   "outputs": [],
   "source": [
    "def train(model, criterion, X, y, epochs=50, device='cpu'):\n",
    "\n",
    "    optimizer = torch.optim.Adam(model.parameters(), lr=0.001)\n",
    "    \n",
    "    model.to(device)\n",
    "    X, y= X.to(device), y.to(device)\n",
    "    for epoch in range(epochs):\n",
    "        model.train()\n",
    "        optimizer.zero_grad()\n",
    "        \n",
    "        outputs = model(X_train)\n",
    "        loss = criterion(outputs, y_train.view(-1, 1))\n",
    "\n",
    "        loss.backward()\n",
    "        optimizer.step()\n",
    "\n",
    "        if (epoch + 1) % 10 == 0:\n",
    "            print(f\"Epoch [{epoch+1}/{epochs}], Loss: {loss.item():.6f}\")\n",
    "\n",
    "    return model\n",
    "\n",
    "\n",
    "def eval(model,X_test, y_test, device=device ):\n",
    "    model.to(device)\n",
    "    X_test, y_test = X_test.to(device), y_test.to(device)\n",
    "\n",
    "    model.eval()\n",
    "    with torch.no_grad():\n",
    "        predictions = model(X_test).cpu().numpy()\n",
    "        actual = y_test.cpu().numpy()\n",
    "\n",
    "    return predictions, actual"
   ]
  },
  {
   "cell_type": "code",
   "execution_count": 11,
   "metadata": {},
   "outputs": [],
   "source": [
    "criterion = nn.MSELoss()\n"
   ]
  },
  {
   "cell_type": "code",
   "execution_count": 44,
   "metadata": {},
   "outputs": [
    {
     "name": "stdout",
     "output_type": "stream",
     "text": [
      "Epoch [10/250], Loss: 0.004983\n",
      "Epoch [20/250], Loss: 0.002819\n",
      "Epoch [30/250], Loss: 0.002360\n",
      "Epoch [40/250], Loss: 0.002303\n",
      "Epoch [50/250], Loss: 0.002134\n",
      "Epoch [60/250], Loss: 0.001804\n",
      "Epoch [70/250], Loss: 0.000817\n",
      "Epoch [80/250], Loss: 0.000144\n",
      "Epoch [90/250], Loss: 0.000077\n",
      "Epoch [100/250], Loss: 0.000054\n",
      "Epoch [110/250], Loss: 0.000047\n",
      "Epoch [120/250], Loss: 0.000042\n",
      "Epoch [130/250], Loss: 0.000040\n",
      "Epoch [140/250], Loss: 0.000038\n",
      "Epoch [150/250], Loss: 0.000036\n",
      "Epoch [160/250], Loss: 0.000036\n",
      "Epoch [170/250], Loss: 0.000035\n",
      "Epoch [180/250], Loss: 0.000034\n",
      "Epoch [190/250], Loss: 0.000034\n",
      "Epoch [200/250], Loss: 0.000033\n",
      "Epoch [210/250], Loss: 0.000033\n",
      "Epoch [220/250], Loss: 0.000033\n",
      "Epoch [230/250], Loss: 0.000033\n",
      "Epoch [240/250], Loss: 0.000032\n",
      "Epoch [250/250], Loss: 0.000032\n"
     ]
    }
   ],
   "source": [
    "\n",
    "model = LSTMModel().to(device)\n",
    "\n",
    "\n",
    "trained_LSTM= train(model, criterion,\n",
    "                            X_train, y_train, epochs=250, device=device)\n",
    "LSTM_predictions, actual = eval(trained_LSTM,X_test, y_test)\n"
   ]
  },
  {
   "cell_type": "markdown",
   "metadata": {},
   "source": [
    "* Bidirectional LSTM (Bi-LSTM) → Captures both past and future context.\n",
    "* Attention Mechanism \n",
    "* Hybrid Models (LSTM + ARIMA) \n",
    "* feats : Volume, Moving Averages (SMA, EMA), RSI, MACD (Technical Indicators), \"News Sentiment Data\""
   ]
  },
  {
   "cell_type": "code",
   "execution_count": 45,
   "metadata": {},
   "outputs": [
    {
     "name": "stdout",
     "output_type": "stream",
     "text": [
      "('self', 'input_size', 'hidden_size', 'num_layers', 'output_size', 'bidirectional', 'fc_input_size')\n"
     ]
    }
   ],
   "source": [
    "print(LSTMModel.__init__.__code__.co_varnames)\n"
   ]
  },
  {
   "cell_type": "code",
   "execution_count": 46,
   "metadata": {},
   "outputs": [
    {
     "name": "stdout",
     "output_type": "stream",
     "text": [
      "Epoch [10/250], Loss: 0.002578\n",
      "Epoch [20/250], Loss: 0.002494\n",
      "Epoch [30/250], Loss: 0.002292\n",
      "Epoch [40/250], Loss: 0.001957\n",
      "Epoch [50/250], Loss: 0.001156\n",
      "Epoch [60/250], Loss: 0.000488\n",
      "Epoch [70/250], Loss: 0.000193\n",
      "Epoch [80/250], Loss: 0.000046\n",
      "Epoch [90/250], Loss: 0.000034\n",
      "Epoch [100/250], Loss: 0.000034\n",
      "Epoch [110/250], Loss: 0.000030\n",
      "Epoch [120/250], Loss: 0.000026\n",
      "Epoch [130/250], Loss: 0.000025\n",
      "Epoch [140/250], Loss: 0.000025\n",
      "Epoch [150/250], Loss: 0.000024\n",
      "Epoch [160/250], Loss: 0.000024\n",
      "Epoch [170/250], Loss: 0.000023\n",
      "Epoch [180/250], Loss: 0.000023\n",
      "Epoch [190/250], Loss: 0.000023\n",
      "Epoch [200/250], Loss: 0.000022\n",
      "Epoch [210/250], Loss: 0.000022\n",
      "Epoch [220/250], Loss: 0.000022\n",
      "Epoch [230/250], Loss: 0.000021\n",
      "Epoch [240/250], Loss: 0.000021\n",
      "Epoch [250/250], Loss: 0.000021\n"
     ]
    }
   ],
   "source": [
    "Bi_LSTM = LSTMModel(input_size=1, hidden_size=64, num_layers=2, output_size=1,bidirectional=True)\n",
    "\n",
    "trained_Bi_LSTM= train(Bi_LSTM, criterion, \n",
    "                            X_train, y_train, epochs=250, device=device)\n"
   ]
  },
  {
   "cell_type": "code",
   "execution_count": 47,
   "metadata": {},
   "outputs": [],
   "source": [
    "Bi_LSTM_predictions, actual = eval(trained_Bi_LSTM,X_test, y_test)"
   ]
  },
  {
   "cell_type": "code",
   "execution_count": 48,
   "metadata": {},
   "outputs": [
    {
     "data": {
      "image/png": "[encoded data removed]",
      "text/plain": [
       "<Figure size 1200x600 with 1 Axes>"
      ]
     },
     "metadata": {},
     "output_type": "display_data"
    }
   ],
   "source": [
    "#back to og scale\n",
    "LSTM_predictions = scaler.inverse_transform(LSTM_predictions)\n",
    "Bi_LSTM_predictions= scaler.inverse_transform(Bi_LSTM_predictions)\n",
    "actual = scaler.inverse_transform(actual.reshape(-1, 1))\n",
    "\n",
    "plt.figure(figsize=(12,6))\n",
    "plt.plot(actual, label=\"Actual Prices\", color='blue')\n",
    "plt.plot(LSTM_predictions, label=\"Predicted Prices LSTM\", color='red')\n",
    "plt.plot(Bi_LSTM_predictions, label=\"Predicted Prices Bidirectionnal LSTM\", color='green')\n",
    "\n",
    "\n",
    "plt.plot()\n",
    "plt.legend()\n",
    "plt.show()"
   ]
  },
  {
   "cell_type": "markdown",
   "metadata": {},
   "source": [
    "### attention mechanisms(time-wise) on LSTM : \n",
    "* Instead of just using the last hidden state, Attention learns to assign weights to different time steps based on their relevance and then compute weighted sum of all hidden states"
   ]
  },
  {
   "cell_type": "code",
   "execution_count": null,
   "metadata": {},
   "outputs": [
    {
     "name": "stdout",
     "output_type": "stream",
     "text": [
      "Epoch [10/100], Loss: 0.002645\n"
     ]
    }
   ],
   "source": [
    "model = attentional_LSTM(input_size=1, hidden_size=64, num_layers=2, output_size=1, bidirectional=True).to(device)\n",
    "\n",
    "\n",
    "trained_model = train(model, criterion, \n",
    "                            X_train, y_train, \n",
    "                            epochs=100, device=device)\n",
    "\n",
    "attentional_LSTM_predictions, _= eval(trained_Bi_LSTM,X_test, y_test)"
   ]
  },
  {
   "cell_type": "code",
   "execution_count": null,
   "metadata": {},
   "outputs": [],
   "source": []
  },
  {
   "cell_type": "code",
   "execution_count": null,
   "metadata": {},
   "outputs": [],
   "source": []
  }
 ],
 "metadata": {
  "kernelspec": {
   "display_name": "tf",
   "language": "python",
   "name": "python3"
  },
  "language_info": {
   "codemirror_mode": {
    "name": "ipython",
    "version": 3
   },
   "file_extension": ".py",
   "mimetype": "text/x-python",
   "name": "python",
   "nbconvert_exporter": "python",
   "pygments_lexer": "ipython3",
   "version": "3.10.11"
  }
 },
 "nbformat": 4,
 "nbformat_minor": 2
}
