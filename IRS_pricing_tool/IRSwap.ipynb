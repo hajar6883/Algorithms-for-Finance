{
 "cells": [
  {
   "cell_type": "markdown",
   "id": "c152d6ca",
   "metadata": {},
   "source": [
    "### Interest Rate Swap Pricer"
   ]
  },
  {
   "cell_type": "markdown",
   "id": "fc9cc7f8",
   "metadata": {},
   "source": [
    "Inputs:\n",
    "a. Currency\n",
    "b. Notional Schedule\n",
    "c. Zero Rates *\n",
    "d. Payment Freq\n",
    "e. Daycount Fraction\n",
    "\n",
    "\n",
    "\n",
    "Steps:\n",
    "a. Take  "
   ]
  },
  {
   "cell_type": "code",
   "execution_count": 20,
   "id": "7b67fa04",
   "metadata": {},
   "outputs": [],
   "source": [
    "import pandas as pd\n",
    "import numpy as np\n",
    "import datetime \n",
    "import matplotlib.pyplot as plt\n",
    "from datetime import date\n",
    "import os\n",
    "import warnings\n",
    "warnings.filterwarnings(\"ignore\")\n",
    "\n",
    "from bs4 import BeautifulSoup\n",
    "import requests\n",
    "import time\n",
    "from selenium import webdriver\n",
    "from selenium.common.exceptions import NoSuchElementException\n",
    "import lxml\n",
    "import plotly.graph_objects as go\n"
   ]
  },
  {
   "cell_type": "markdown",
   "id": "eb011d8f",
   "metadata": {},
   "source": [
    "&rarr; for chrome\n"
   ]
  },
  {
   "cell_type": "code",
   "execution_count": 2,
   "id": "6fdfad54",
   "metadata": {},
   "outputs": [],
   "source": [
    "# def PullData(url):\n",
    "#     driver = webdriver.Chrome(executable_path=r\"C:\\Program Files (x86)\\Google\\Chrome\\chromedriver.exe\")\n",
    "#     driver.get(url)\n",
    "#     time.sleep(2)\n",
    "#     scroll_pause_time = 1\n",
    "#     screen_height = driver.execute_script(\"return window.screen.height;\")   # get the screen height of the web\n",
    "#     i = 1\n",
    "#     while True:\n",
    "#         driver.execute_script(\"window.scrollTo(0, {screen_height}*{i});\".format(screen_height=screen_height, i=i))  \n",
    "#         i += 1\n",
    "#         time.sleep(scroll_pause_time)\n",
    "#         scroll_height = driver.execute_script(\"return document.body.scrollHeight;\")  \n",
    "#         if (screen_height) * i > scroll_height:\n",
    "#             break\n",
    "#     while True:\n",
    "#         try:\n",
    "#             loadMoreButton = driver.find_element_by_class_name(\"tv-load-more__btn\")\n",
    "#             loadMoreButton.click()\n",
    "#             time.sleep(5)\n",
    "#         except:\n",
    "#             break\n",
    "#     zero_rates = pd.read_html(driver.page_source)[1]\n",
    "#     driver.close()\n",
    "#     zero_rates = zero_rates.iloc[:,[0,2,3]].replace('—',np.nan).dropna()\n",
    "#     zero_rates.columns = [\"Ticker\",\"Maturity\", \"Yield\"]\n",
    "#     zero_rates[\"Maturity\"] = pd.to_datetime(zero_rates[\"Maturity\"])\n",
    "#     zero_rates[[\"Yield\"]] = zero_rates[[\"Yield\"]].replace('−','-', regex=True)\n",
    "#     zero_rates.iloc[:,0] = zero_rates.iloc[:,0].apply(lambda x: x[0:5])\n",
    "#     zero_rates[\"Yield\"] = pd.to_numeric(zero_rates[\"Yield\"])\n",
    "#     return zero_rates"
   ]
  },
  {
   "cell_type": "markdown",
   "id": "6d7057d4",
   "metadata": {},
   "source": [
    " safaridriver --enable    "
   ]
  },
  {
   "cell_type": "code",
   "execution_count": 3,
   "id": "3a6e2af7",
   "metadata": {},
   "outputs": [],
   "source": [
    "def PullData(url):\n",
    "  \n",
    "    driver = webdriver.Safari()\n",
    "    driver.get(url)\n",
    "    time.sleep(2) \n",
    "\n",
    "   \n",
    "    scroll_pause_time = 1\n",
    "    screen_height = driver.execute_script(\"return window.screen.height;\")  # Get screen height\n",
    "    i = 1\n",
    "\n",
    "    while True:\n",
    "        driver.execute_script(f\"window.scrollTo(0, {screen_height}*{i});\")\n",
    "        i += 1\n",
    "        time.sleep(scroll_pause_time)\n",
    "        scroll_height = driver.execute_script(\"return document.body.scrollHeight;\")  \n",
    "        if (screen_height) * i > scroll_height:\n",
    "            break  # Stop scrolling when bottom is reached\n",
    "\n",
    "    # Click \"Load More\" button (if available)\n",
    "    while True:\n",
    "        try:\n",
    "            load_more_button = driver.find_element(\"class name\", \"tv-load-more__btn\")\n",
    "            load_more_button.click()\n",
    "            time.sleep(5)  # Wait for content to load\n",
    "        except NoSuchElementException:\n",
    "            break  # No more \"Load More\" button\n",
    "\n",
    "    # Extract table data\n",
    "\n",
    "    tables = pd.read_html(driver.page_source)\n",
    "    # for i, table in enumerate(tables):\n",
    "    #     print(f\"Table {i}:\")\n",
    "    #     print(table.head())  \n",
    "\n",
    "    # zero_rates = pd.read_html(driver.page_source)[1]\n",
    "    driver.quit()  # close the browser\n",
    "    \n",
    "    zero_rates = tables[1]\n",
    "    print(\"Columns in extracted table:\", zero_rates.columns)\n",
    "    zero_rates.columns = [\"Symbol\", \"Coupon\", \"Yield %\", \"Maturity date\", \"Term to maturity\", \"Price\", \"Change %\", \"Change\"]\n",
    "    zero_rates = zero_rates[[\"Symbol\", \"Maturity date\", \"Yield %\"]]\n",
    "    zero_rates.columns = [\"Ticker\", \"Maturity\", \"Yield\"]\n",
    "\n",
    "    zero_rates[\"Maturity\"] = pd.to_datetime(zero_rates[\"Maturity\"], errors=\"coerce\")\n",
    "\n",
    " \n",
    "    zero_rates[\"Yield\"] = zero_rates[\"Yield\"].str.replace('%', '', regex=False) \n",
    "    zero_rates[\"Yield\"] = pd.to_numeric(zero_rates[\"Yield\"], errors=\"coerce\")  \n",
    "\n",
    "\n",
    "    zero_rates[\"Ticker\"] = zero_rates[\"Ticker\"].str[:5]\n",
    "    return zero_rates\n"
   ]
  },
  {
   "cell_type": "code",
   "execution_count": 4,
   "id": "23137ba2",
   "metadata": {
    "scrolled": false
   },
   "outputs": [
    {
     "name": "stdout",
     "output_type": "stream",
     "text": [
      "Columns in extracted table: Index(['Symbol', 'Coupon', 'Yield %', 'Maturity date', 'Term to maturity',\n",
      "       'Price', 'Change %', 'Change'],\n",
      "      dtype='object')\n"
     ]
    }
   ],
   "source": [
    "ticker_meta = pd.read_csv('ticker.csv')\n",
    "url = \"https://www.tradingview.com/markets/bonds/prices-all/\"\n",
    "zero_rates = PullData(url)\n",
    "zero_rates.to_csv('zero_rates.csv', index=False)"
   ]
  },
  {
   "cell_type": "code",
   "execution_count": 5,
   "id": "ff595b05",
   "metadata": {},
   "outputs": [],
   "source": [
    "zero_rates[\"T\"] = zero_rates[\"Maturity\"].apply(lambda x: ((x - datetime.datetime.now()).days)/365)"
   ]
  },
  {
   "cell_type": "code",
   "execution_count": 6,
   "id": "b5ab4e84",
   "metadata": {
    "scrolled": true
   },
   "outputs": [],
   "source": [
    "zero_rates[\"Df\"] = 1/(1+zero_rates[\"Yield\"]/100)**zero_rates[\"T\"]"
   ]
  },
  {
   "cell_type": "code",
   "execution_count": 7,
   "id": "5b1f4e24",
   "metadata": {},
   "outputs": [],
   "source": [
    "zero_rates = pd.merge(zero_rates, ticker_meta).dropna()"
   ]
  },
  {
   "cell_type": "code",
   "execution_count": 8,
   "id": "ec9beeea",
   "metadata": {},
   "outputs": [
    {
     "data": {
      "text/html": [
       "<div>\n",
       "<style scoped>\n",
       "    .dataframe tbody tr th:only-of-type {\n",
       "        vertical-align: middle;\n",
       "    }\n",
       "\n",
       "    .dataframe tbody tr th {\n",
       "        vertical-align: top;\n",
       "    }\n",
       "\n",
       "    .dataframe thead th {\n",
       "        text-align: right;\n",
       "    }\n",
       "</style>\n",
       "<table border=\"1\" class=\"dataframe\">\n",
       "  <thead>\n",
       "    <tr style=\"text-align: right;\">\n",
       "      <th></th>\n",
       "      <th>Ticker</th>\n",
       "      <th>Maturity</th>\n",
       "      <th>Yield</th>\n",
       "      <th>T</th>\n",
       "      <th>Df</th>\n",
       "      <th>Country</th>\n",
       "      <th>Currency</th>\n",
       "      <th>Tenor</th>\n",
       "    </tr>\n",
       "  </thead>\n",
       "  <tbody>\n",
       "    <tr>\n",
       "      <th>0</th>\n",
       "      <td>US01M</td>\n",
       "      <td>2025-03-25</td>\n",
       "      <td>4.321</td>\n",
       "      <td>0.082192</td>\n",
       "      <td>0.996529</td>\n",
       "      <td>UnitedStates</td>\n",
       "      <td>USD</td>\n",
       "      <td>0.833</td>\n",
       "    </tr>\n",
       "    <tr>\n",
       "      <th>1</th>\n",
       "      <td>US02M</td>\n",
       "      <td>2025-04-22</td>\n",
       "      <td>4.322</td>\n",
       "      <td>0.158904</td>\n",
       "      <td>0.993299</td>\n",
       "      <td>UnitedStates</td>\n",
       "      <td>USD</td>\n",
       "      <td>0.167</td>\n",
       "    </tr>\n",
       "    <tr>\n",
       "      <th>2</th>\n",
       "      <td>US03M</td>\n",
       "      <td>2025-05-22</td>\n",
       "      <td>4.307</td>\n",
       "      <td>0.241096</td>\n",
       "      <td>0.989885</td>\n",
       "      <td>UnitedStates</td>\n",
       "      <td>USD</td>\n",
       "      <td>0.250</td>\n",
       "    </tr>\n",
       "    <tr>\n",
       "      <th>3</th>\n",
       "      <td>US06M</td>\n",
       "      <td>2025-08-21</td>\n",
       "      <td>4.338</td>\n",
       "      <td>0.490411</td>\n",
       "      <td>0.979390</td>\n",
       "      <td>UnitedStates</td>\n",
       "      <td>USD</td>\n",
       "      <td>0.500</td>\n",
       "    </tr>\n",
       "    <tr>\n",
       "      <th>4</th>\n",
       "      <td>US01Y</td>\n",
       "      <td>2026-02-19</td>\n",
       "      <td>4.168</td>\n",
       "      <td>0.989041</td>\n",
       "      <td>0.960417</td>\n",
       "      <td>UnitedStates</td>\n",
       "      <td>USD</td>\n",
       "      <td>1.000</td>\n",
       "    </tr>\n",
       "    <tr>\n",
       "      <th>5</th>\n",
       "      <td>US02Y</td>\n",
       "      <td>2027-01-31</td>\n",
       "      <td>4.198</td>\n",
       "      <td>1.936986</td>\n",
       "      <td>0.923436</td>\n",
       "      <td>UnitedStates</td>\n",
       "      <td>USD</td>\n",
       "      <td>2.000</td>\n",
       "    </tr>\n",
       "    <tr>\n",
       "      <th>6</th>\n",
       "      <td>US03Y</td>\n",
       "      <td>2028-02-15</td>\n",
       "      <td>4.207</td>\n",
       "      <td>2.978082</td>\n",
       "      <td>0.884508</td>\n",
       "      <td>UnitedStates</td>\n",
       "      <td>USD</td>\n",
       "      <td>3.000</td>\n",
       "    </tr>\n",
       "    <tr>\n",
       "      <th>7</th>\n",
       "      <td>US05Y</td>\n",
       "      <td>2030-01-31</td>\n",
       "      <td>4.269</td>\n",
       "      <td>4.939726</td>\n",
       "      <td>0.813426</td>\n",
       "      <td>UnitedStates</td>\n",
       "      <td>USD</td>\n",
       "      <td>5.000</td>\n",
       "    </tr>\n",
       "    <tr>\n",
       "      <th>8</th>\n",
       "      <td>US07Y</td>\n",
       "      <td>2032-01-31</td>\n",
       "      <td>4.355</td>\n",
       "      <td>6.939726</td>\n",
       "      <td>0.743915</td>\n",
       "      <td>UnitedStates</td>\n",
       "      <td>USD</td>\n",
       "      <td>7.000</td>\n",
       "    </tr>\n",
       "    <tr>\n",
       "      <th>9</th>\n",
       "      <td>US10Y</td>\n",
       "      <td>2035-02-15</td>\n",
       "      <td>4.431</td>\n",
       "      <td>9.983562</td>\n",
       "      <td>0.648657</td>\n",
       "      <td>UnitedStates</td>\n",
       "      <td>USD</td>\n",
       "      <td>10.000</td>\n",
       "    </tr>\n",
       "    <tr>\n",
       "      <th>10</th>\n",
       "      <td>US20Y</td>\n",
       "      <td>2045-02-15</td>\n",
       "      <td>4.711</td>\n",
       "      <td>19.991781</td>\n",
       "      <td>0.398399</td>\n",
       "      <td>UnitedStates</td>\n",
       "      <td>USD</td>\n",
       "      <td>20.000</td>\n",
       "    </tr>\n",
       "    <tr>\n",
       "      <th>11</th>\n",
       "      <td>US30Y</td>\n",
       "      <td>2055-02-15</td>\n",
       "      <td>4.680</td>\n",
       "      <td>29.997260</td>\n",
       "      <td>0.253596</td>\n",
       "      <td>UnitedStates</td>\n",
       "      <td>USD</td>\n",
       "      <td>30.000</td>\n",
       "    </tr>\n",
       "    <tr>\n",
       "      <th>12</th>\n",
       "      <td>CA03M</td>\n",
       "      <td>2025-05-22</td>\n",
       "      <td>2.875</td>\n",
       "      <td>0.241096</td>\n",
       "      <td>0.993190</td>\n",
       "      <td>Canada</td>\n",
       "      <td>CAD</td>\n",
       "      <td>3.000</td>\n",
       "    </tr>\n",
       "    <tr>\n",
       "      <th>13</th>\n",
       "      <td>CA06M</td>\n",
       "      <td>2025-07-30</td>\n",
       "      <td>2.855</td>\n",
       "      <td>0.430137</td>\n",
       "      <td>0.987965</td>\n",
       "      <td>Canada</td>\n",
       "      <td>CAD</td>\n",
       "      <td>6.000</td>\n",
       "    </tr>\n",
       "    <tr>\n",
       "      <th>14</th>\n",
       "      <td>CA01Y</td>\n",
       "      <td>2026-01-28</td>\n",
       "      <td>2.815</td>\n",
       "      <td>0.928767</td>\n",
       "      <td>0.974546</td>\n",
       "      <td>Canada</td>\n",
       "      <td>CAD</td>\n",
       "      <td>1.000</td>\n",
       "    </tr>\n",
       "    <tr>\n",
       "      <th>15</th>\n",
       "      <td>CA02Y</td>\n",
       "      <td>2027-02-01</td>\n",
       "      <td>2.733</td>\n",
       "      <td>1.939726</td>\n",
       "      <td>0.949043</td>\n",
       "      <td>Canada</td>\n",
       "      <td>CAD</td>\n",
       "      <td>2.000</td>\n",
       "    </tr>\n",
       "    <tr>\n",
       "      <th>16</th>\n",
       "      <td>CA03Y</td>\n",
       "      <td>2027-09-01</td>\n",
       "      <td>2.734</td>\n",
       "      <td>2.520548</td>\n",
       "      <td>0.934273</td>\n",
       "      <td>Canada</td>\n",
       "      <td>CAD</td>\n",
       "      <td>3.000</td>\n",
       "    </tr>\n",
       "    <tr>\n",
       "      <th>17</th>\n",
       "      <td>CA05Y</td>\n",
       "      <td>2029-09-01</td>\n",
       "      <td>2.814</td>\n",
       "      <td>4.523288</td>\n",
       "      <td>0.882032</td>\n",
       "      <td>Canada</td>\n",
       "      <td>CAD</td>\n",
       "      <td>5.000</td>\n",
       "    </tr>\n",
       "    <tr>\n",
       "      <th>18</th>\n",
       "      <td>CA10Y</td>\n",
       "      <td>2034-12-01</td>\n",
       "      <td>3.108</td>\n",
       "      <td>9.775342</td>\n",
       "      <td>0.741417</td>\n",
       "      <td>Canada</td>\n",
       "      <td>CAD</td>\n",
       "      <td>10.000</td>\n",
       "    </tr>\n",
       "    <tr>\n",
       "      <th>19</th>\n",
       "      <td>CA30Y</td>\n",
       "      <td>2055-12-01</td>\n",
       "      <td>3.297</td>\n",
       "      <td>30.789041</td>\n",
       "      <td>0.368343</td>\n",
       "      <td>Canada</td>\n",
       "      <td>CAD</td>\n",
       "      <td>30.000</td>\n",
       "    </tr>\n",
       "    <tr>\n",
       "      <th>20</th>\n",
       "      <td>GB01Y</td>\n",
       "      <td>2025-10-22</td>\n",
       "      <td>4.345</td>\n",
       "      <td>0.660274</td>\n",
       "      <td>0.972308</td>\n",
       "      <td>UnitedKingdom</td>\n",
       "      <td>GBP</td>\n",
       "      <td>1.000</td>\n",
       "    </tr>\n",
       "    <tr>\n",
       "      <th>21</th>\n",
       "      <td>GB02Y</td>\n",
       "      <td>2027-01-29</td>\n",
       "      <td>4.223</td>\n",
       "      <td>1.931507</td>\n",
       "      <td>0.923216</td>\n",
       "      <td>UnitedKingdom</td>\n",
       "      <td>GBP</td>\n",
       "      <td>2.000</td>\n",
       "    </tr>\n",
       "    <tr>\n",
       "      <th>22</th>\n",
       "      <td>GB03Y</td>\n",
       "      <td>2027-12-07</td>\n",
       "      <td>4.008</td>\n",
       "      <td>2.786301</td>\n",
       "      <td>0.896287</td>\n",
       "      <td>UnitedKingdom</td>\n",
       "      <td>GBP</td>\n",
       "      <td>3.000</td>\n",
       "    </tr>\n",
       "    <tr>\n",
       "      <th>23</th>\n",
       "      <td>GB05Y</td>\n",
       "      <td>2029-07-22</td>\n",
       "      <td>4.243</td>\n",
       "      <td>4.410959</td>\n",
       "      <td>0.832522</td>\n",
       "      <td>UnitedKingdom</td>\n",
       "      <td>GBP</td>\n",
       "      <td>5.000</td>\n",
       "    </tr>\n",
       "    <tr>\n",
       "      <th>24</th>\n",
       "      <td>GB07Y</td>\n",
       "      <td>2031-10-22</td>\n",
       "      <td>4.371</td>\n",
       "      <td>6.663014</td>\n",
       "      <td>0.751973</td>\n",
       "      <td>UnitedKingdom</td>\n",
       "      <td>GBP</td>\n",
       "      <td>7.000</td>\n",
       "    </tr>\n",
       "    <tr>\n",
       "      <th>25</th>\n",
       "      <td>GB10Y</td>\n",
       "      <td>2034-07-31</td>\n",
       "      <td>4.562</td>\n",
       "      <td>9.438356</td>\n",
       "      <td>0.656360</td>\n",
       "      <td>UnitedKingdom</td>\n",
       "      <td>GBP</td>\n",
       "      <td>10.000</td>\n",
       "    </tr>\n",
       "    <tr>\n",
       "      <th>26</th>\n",
       "      <td>GB15Y</td>\n",
       "      <td>2039-09-07</td>\n",
       "      <td>4.867</td>\n",
       "      <td>14.545205</td>\n",
       "      <td>0.500961</td>\n",
       "      <td>UnitedKingdom</td>\n",
       "      <td>GBP</td>\n",
       "      <td>15.000</td>\n",
       "    </tr>\n",
       "    <tr>\n",
       "      <th>27</th>\n",
       "      <td>GB20Y</td>\n",
       "      <td>2045-01-22</td>\n",
       "      <td>5.079</td>\n",
       "      <td>19.926027</td>\n",
       "      <td>0.372626</td>\n",
       "      <td>UnitedKingdom</td>\n",
       "      <td>GBP</td>\n",
       "      <td>20.000</td>\n",
       "    </tr>\n",
       "    <tr>\n",
       "      <th>28</th>\n",
       "      <td>GB25Y</td>\n",
       "      <td>2049-12-07</td>\n",
       "      <td>5.128</td>\n",
       "      <td>24.802740</td>\n",
       "      <td>0.289284</td>\n",
       "      <td>UnitedKingdom</td>\n",
       "      <td>GBP</td>\n",
       "      <td>25.000</td>\n",
       "    </tr>\n",
       "    <tr>\n",
       "      <th>29</th>\n",
       "      <td>GB30Y</td>\n",
       "      <td>2054-07-31</td>\n",
       "      <td>5.156</td>\n",
       "      <td>29.452055</td>\n",
       "      <td>0.227479</td>\n",
       "      <td>UnitedKingdom</td>\n",
       "      <td>GBP</td>\n",
       "      <td>30.000</td>\n",
       "    </tr>\n",
       "    <tr>\n",
       "      <th>30</th>\n",
       "      <td>GB50Y</td>\n",
       "      <td>2073-10-22</td>\n",
       "      <td>4.405</td>\n",
       "      <td>48.693151</td>\n",
       "      <td>0.122575</td>\n",
       "      <td>UnitedKingdom</td>\n",
       "      <td>GBP</td>\n",
       "      <td>50.000</td>\n",
       "    </tr>\n",
       "  </tbody>\n",
       "</table>\n",
       "</div>"
      ],
      "text/plain": [
       "   Ticker   Maturity  Yield          T        Df        Country Currency  \\\n",
       "0   US01M 2025-03-25  4.321   0.082192  0.996529   UnitedStates      USD   \n",
       "1   US02M 2025-04-22  4.322   0.158904  0.993299   UnitedStates      USD   \n",
       "2   US03M 2025-05-22  4.307   0.241096  0.989885   UnitedStates      USD   \n",
       "3   US06M 2025-08-21  4.338   0.490411  0.979390   UnitedStates      USD   \n",
       "4   US01Y 2026-02-19  4.168   0.989041  0.960417   UnitedStates      USD   \n",
       "5   US02Y 2027-01-31  4.198   1.936986  0.923436   UnitedStates      USD   \n",
       "6   US03Y 2028-02-15  4.207   2.978082  0.884508   UnitedStates      USD   \n",
       "7   US05Y 2030-01-31  4.269   4.939726  0.813426   UnitedStates      USD   \n",
       "8   US07Y 2032-01-31  4.355   6.939726  0.743915   UnitedStates      USD   \n",
       "9   US10Y 2035-02-15  4.431   9.983562  0.648657   UnitedStates      USD   \n",
       "10  US20Y 2045-02-15  4.711  19.991781  0.398399   UnitedStates      USD   \n",
       "11  US30Y 2055-02-15  4.680  29.997260  0.253596   UnitedStates      USD   \n",
       "12  CA03M 2025-05-22  2.875   0.241096  0.993190         Canada      CAD   \n",
       "13  CA06M 2025-07-30  2.855   0.430137  0.987965         Canada      CAD   \n",
       "14  CA01Y 2026-01-28  2.815   0.928767  0.974546         Canada      CAD   \n",
       "15  CA02Y 2027-02-01  2.733   1.939726  0.949043         Canada      CAD   \n",
       "16  CA03Y 2027-09-01  2.734   2.520548  0.934273         Canada      CAD   \n",
       "17  CA05Y 2029-09-01  2.814   4.523288  0.882032         Canada      CAD   \n",
       "18  CA10Y 2034-12-01  3.108   9.775342  0.741417         Canada      CAD   \n",
       "19  CA30Y 2055-12-01  3.297  30.789041  0.368343         Canada      CAD   \n",
       "20  GB01Y 2025-10-22  4.345   0.660274  0.972308  UnitedKingdom      GBP   \n",
       "21  GB02Y 2027-01-29  4.223   1.931507  0.923216  UnitedKingdom      GBP   \n",
       "22  GB03Y 2027-12-07  4.008   2.786301  0.896287  UnitedKingdom      GBP   \n",
       "23  GB05Y 2029-07-22  4.243   4.410959  0.832522  UnitedKingdom      GBP   \n",
       "24  GB07Y 2031-10-22  4.371   6.663014  0.751973  UnitedKingdom      GBP   \n",
       "25  GB10Y 2034-07-31  4.562   9.438356  0.656360  UnitedKingdom      GBP   \n",
       "26  GB15Y 2039-09-07  4.867  14.545205  0.500961  UnitedKingdom      GBP   \n",
       "27  GB20Y 2045-01-22  5.079  19.926027  0.372626  UnitedKingdom      GBP   \n",
       "28  GB25Y 2049-12-07  5.128  24.802740  0.289284  UnitedKingdom      GBP   \n",
       "29  GB30Y 2054-07-31  5.156  29.452055  0.227479  UnitedKingdom      GBP   \n",
       "30  GB50Y 2073-10-22  4.405  48.693151  0.122575  UnitedKingdom      GBP   \n",
       "\n",
       "     Tenor  \n",
       "0    0.833  \n",
       "1    0.167  \n",
       "2    0.250  \n",
       "3    0.500  \n",
       "4    1.000  \n",
       "5    2.000  \n",
       "6    3.000  \n",
       "7    5.000  \n",
       "8    7.000  \n",
       "9   10.000  \n",
       "10  20.000  \n",
       "11  30.000  \n",
       "12   3.000  \n",
       "13   6.000  \n",
       "14   1.000  \n",
       "15   2.000  \n",
       "16   3.000  \n",
       "17   5.000  \n",
       "18  10.000  \n",
       "19  30.000  \n",
       "20   1.000  \n",
       "21   2.000  \n",
       "22   3.000  \n",
       "23   5.000  \n",
       "24   7.000  \n",
       "25  10.000  \n",
       "26  15.000  \n",
       "27  20.000  \n",
       "28  25.000  \n",
       "29  30.000  \n",
       "30  50.000  "
      ]
     },
     "execution_count": 8,
     "metadata": {},
     "output_type": "execute_result"
    }
   ],
   "source": [
    "zero_rates"
   ]
  },
  {
   "cell_type": "markdown",
   "id": "26f48f65",
   "metadata": {},
   "source": [
    "* T : The remaining time to maturity in years, calculated from today’s date.\n",
    "* Df discount_factor : The present value of $1 received at maturity. Lower values indicate higher discounting (i.e., higher interest rates)\n",
    "* yields are annualised\n",
    "* Tenor: bond term in years"
   ]
  },
  {
   "cell_type": "code",
   "execution_count": 9,
   "id": "2f298980",
   "metadata": {},
   "outputs": [],
   "source": [
    "disc_factors = zero_rates.loc[:,[\"Currency\", \"T\", \"Df\"]].reset_index(drop=True)"
   ]
  },
  {
   "cell_type": "code",
   "execution_count": 10,
   "id": "0e23bbd2",
   "metadata": {},
   "outputs": [
    {
     "data": {
      "text/html": [
       "<div>\n",
       "<style scoped>\n",
       "    .dataframe tbody tr th:only-of-type {\n",
       "        vertical-align: middle;\n",
       "    }\n",
       "\n",
       "    .dataframe tbody tr th {\n",
       "        vertical-align: top;\n",
       "    }\n",
       "\n",
       "    .dataframe thead th {\n",
       "        text-align: right;\n",
       "    }\n",
       "</style>\n",
       "<table border=\"1\" class=\"dataframe\">\n",
       "  <thead>\n",
       "    <tr style=\"text-align: right;\">\n",
       "      <th></th>\n",
       "      <th>Currency</th>\n",
       "      <th>T</th>\n",
       "      <th>Df</th>\n",
       "    </tr>\n",
       "  </thead>\n",
       "  <tbody>\n",
       "    <tr>\n",
       "      <th>0</th>\n",
       "      <td>USD</td>\n",
       "      <td>0.082192</td>\n",
       "      <td>0.996529</td>\n",
       "    </tr>\n",
       "    <tr>\n",
       "      <th>1</th>\n",
       "      <td>USD</td>\n",
       "      <td>0.158904</td>\n",
       "      <td>0.993299</td>\n",
       "    </tr>\n",
       "    <tr>\n",
       "      <th>2</th>\n",
       "      <td>USD</td>\n",
       "      <td>0.241096</td>\n",
       "      <td>0.989885</td>\n",
       "    </tr>\n",
       "    <tr>\n",
       "      <th>3</th>\n",
       "      <td>USD</td>\n",
       "      <td>0.490411</td>\n",
       "      <td>0.979390</td>\n",
       "    </tr>\n",
       "    <tr>\n",
       "      <th>4</th>\n",
       "      <td>USD</td>\n",
       "      <td>0.989041</td>\n",
       "      <td>0.960417</td>\n",
       "    </tr>\n",
       "    <tr>\n",
       "      <th>5</th>\n",
       "      <td>USD</td>\n",
       "      <td>1.936986</td>\n",
       "      <td>0.923436</td>\n",
       "    </tr>\n",
       "    <tr>\n",
       "      <th>6</th>\n",
       "      <td>USD</td>\n",
       "      <td>2.978082</td>\n",
       "      <td>0.884508</td>\n",
       "    </tr>\n",
       "    <tr>\n",
       "      <th>7</th>\n",
       "      <td>USD</td>\n",
       "      <td>4.939726</td>\n",
       "      <td>0.813426</td>\n",
       "    </tr>\n",
       "    <tr>\n",
       "      <th>8</th>\n",
       "      <td>USD</td>\n",
       "      <td>6.939726</td>\n",
       "      <td>0.743915</td>\n",
       "    </tr>\n",
       "    <tr>\n",
       "      <th>9</th>\n",
       "      <td>USD</td>\n",
       "      <td>9.983562</td>\n",
       "      <td>0.648657</td>\n",
       "    </tr>\n",
       "    <tr>\n",
       "      <th>10</th>\n",
       "      <td>USD</td>\n",
       "      <td>19.991781</td>\n",
       "      <td>0.398399</td>\n",
       "    </tr>\n",
       "    <tr>\n",
       "      <th>11</th>\n",
       "      <td>USD</td>\n",
       "      <td>29.997260</td>\n",
       "      <td>0.253596</td>\n",
       "    </tr>\n",
       "    <tr>\n",
       "      <th>12</th>\n",
       "      <td>CAD</td>\n",
       "      <td>0.241096</td>\n",
       "      <td>0.993190</td>\n",
       "    </tr>\n",
       "    <tr>\n",
       "      <th>13</th>\n",
       "      <td>CAD</td>\n",
       "      <td>0.430137</td>\n",
       "      <td>0.987965</td>\n",
       "    </tr>\n",
       "    <tr>\n",
       "      <th>14</th>\n",
       "      <td>CAD</td>\n",
       "      <td>0.928767</td>\n",
       "      <td>0.974546</td>\n",
       "    </tr>\n",
       "    <tr>\n",
       "      <th>15</th>\n",
       "      <td>CAD</td>\n",
       "      <td>1.939726</td>\n",
       "      <td>0.949043</td>\n",
       "    </tr>\n",
       "    <tr>\n",
       "      <th>16</th>\n",
       "      <td>CAD</td>\n",
       "      <td>2.520548</td>\n",
       "      <td>0.934273</td>\n",
       "    </tr>\n",
       "    <tr>\n",
       "      <th>17</th>\n",
       "      <td>CAD</td>\n",
       "      <td>4.523288</td>\n",
       "      <td>0.882032</td>\n",
       "    </tr>\n",
       "    <tr>\n",
       "      <th>18</th>\n",
       "      <td>CAD</td>\n",
       "      <td>9.775342</td>\n",
       "      <td>0.741417</td>\n",
       "    </tr>\n",
       "    <tr>\n",
       "      <th>19</th>\n",
       "      <td>CAD</td>\n",
       "      <td>30.789041</td>\n",
       "      <td>0.368343</td>\n",
       "    </tr>\n",
       "    <tr>\n",
       "      <th>20</th>\n",
       "      <td>GBP</td>\n",
       "      <td>0.660274</td>\n",
       "      <td>0.972308</td>\n",
       "    </tr>\n",
       "    <tr>\n",
       "      <th>21</th>\n",
       "      <td>GBP</td>\n",
       "      <td>1.931507</td>\n",
       "      <td>0.923216</td>\n",
       "    </tr>\n",
       "    <tr>\n",
       "      <th>22</th>\n",
       "      <td>GBP</td>\n",
       "      <td>2.786301</td>\n",
       "      <td>0.896287</td>\n",
       "    </tr>\n",
       "    <tr>\n",
       "      <th>23</th>\n",
       "      <td>GBP</td>\n",
       "      <td>4.410959</td>\n",
       "      <td>0.832522</td>\n",
       "    </tr>\n",
       "    <tr>\n",
       "      <th>24</th>\n",
       "      <td>GBP</td>\n",
       "      <td>6.663014</td>\n",
       "      <td>0.751973</td>\n",
       "    </tr>\n",
       "    <tr>\n",
       "      <th>25</th>\n",
       "      <td>GBP</td>\n",
       "      <td>9.438356</td>\n",
       "      <td>0.656360</td>\n",
       "    </tr>\n",
       "    <tr>\n",
       "      <th>26</th>\n",
       "      <td>GBP</td>\n",
       "      <td>14.545205</td>\n",
       "      <td>0.500961</td>\n",
       "    </tr>\n",
       "    <tr>\n",
       "      <th>27</th>\n",
       "      <td>GBP</td>\n",
       "      <td>19.926027</td>\n",
       "      <td>0.372626</td>\n",
       "    </tr>\n",
       "    <tr>\n",
       "      <th>28</th>\n",
       "      <td>GBP</td>\n",
       "      <td>24.802740</td>\n",
       "      <td>0.289284</td>\n",
       "    </tr>\n",
       "    <tr>\n",
       "      <th>29</th>\n",
       "      <td>GBP</td>\n",
       "      <td>29.452055</td>\n",
       "      <td>0.227479</td>\n",
       "    </tr>\n",
       "    <tr>\n",
       "      <th>30</th>\n",
       "      <td>GBP</td>\n",
       "      <td>48.693151</td>\n",
       "      <td>0.122575</td>\n",
       "    </tr>\n",
       "  </tbody>\n",
       "</table>\n",
       "</div>"
      ],
      "text/plain": [
       "   Currency          T        Df\n",
       "0       USD   0.082192  0.996529\n",
       "1       USD   0.158904  0.993299\n",
       "2       USD   0.241096  0.989885\n",
       "3       USD   0.490411  0.979390\n",
       "4       USD   0.989041  0.960417\n",
       "5       USD   1.936986  0.923436\n",
       "6       USD   2.978082  0.884508\n",
       "7       USD   4.939726  0.813426\n",
       "8       USD   6.939726  0.743915\n",
       "9       USD   9.983562  0.648657\n",
       "10      USD  19.991781  0.398399\n",
       "11      USD  29.997260  0.253596\n",
       "12      CAD   0.241096  0.993190\n",
       "13      CAD   0.430137  0.987965\n",
       "14      CAD   0.928767  0.974546\n",
       "15      CAD   1.939726  0.949043\n",
       "16      CAD   2.520548  0.934273\n",
       "17      CAD   4.523288  0.882032\n",
       "18      CAD   9.775342  0.741417\n",
       "19      CAD  30.789041  0.368343\n",
       "20      GBP   0.660274  0.972308\n",
       "21      GBP   1.931507  0.923216\n",
       "22      GBP   2.786301  0.896287\n",
       "23      GBP   4.410959  0.832522\n",
       "24      GBP   6.663014  0.751973\n",
       "25      GBP   9.438356  0.656360\n",
       "26      GBP  14.545205  0.500961\n",
       "27      GBP  19.926027  0.372626\n",
       "28      GBP  24.802740  0.289284\n",
       "29      GBP  29.452055  0.227479\n",
       "30      GBP  48.693151  0.122575"
      ]
     },
     "execution_count": 10,
     "metadata": {},
     "output_type": "execute_result"
    }
   ],
   "source": [
    "disc_factors"
   ]
  },
  {
   "cell_type": "code",
   "execution_count": 11,
   "id": "9ab8fc84",
   "metadata": {},
   "outputs": [
    {
     "data": {
      "text/html": [
       "<div>\n",
       "<style scoped>\n",
       "    .dataframe tbody tr th:only-of-type {\n",
       "        vertical-align: middle;\n",
       "    }\n",
       "\n",
       "    .dataframe tbody tr th {\n",
       "        vertical-align: top;\n",
       "    }\n",
       "\n",
       "    .dataframe thead th {\n",
       "        text-align: right;\n",
       "    }\n",
       "</style>\n",
       "<table border=\"1\" class=\"dataframe\">\n",
       "  <thead>\n",
       "    <tr style=\"text-align: right;\">\n",
       "      <th></th>\n",
       "      <th>Currency</th>\n",
       "      <th>T</th>\n",
       "      <th>Df</th>\n",
       "    </tr>\n",
       "  </thead>\n",
       "  <tbody>\n",
       "    <tr>\n",
       "      <th>0</th>\n",
       "      <td>USD</td>\n",
       "      <td>0.082192</td>\n",
       "      <td>0.996529</td>\n",
       "    </tr>\n",
       "    <tr>\n",
       "      <th>1</th>\n",
       "      <td>USD</td>\n",
       "      <td>0.158904</td>\n",
       "      <td>0.993299</td>\n",
       "    </tr>\n",
       "    <tr>\n",
       "      <th>2</th>\n",
       "      <td>USD</td>\n",
       "      <td>0.241096</td>\n",
       "      <td>0.989885</td>\n",
       "    </tr>\n",
       "    <tr>\n",
       "      <th>3</th>\n",
       "      <td>USD</td>\n",
       "      <td>0.490411</td>\n",
       "      <td>0.979390</td>\n",
       "    </tr>\n",
       "    <tr>\n",
       "      <th>4</th>\n",
       "      <td>USD</td>\n",
       "      <td>0.989041</td>\n",
       "      <td>0.960417</td>\n",
       "    </tr>\n",
       "    <tr>\n",
       "      <th>5</th>\n",
       "      <td>USD</td>\n",
       "      <td>1.936986</td>\n",
       "      <td>0.923436</td>\n",
       "    </tr>\n",
       "    <tr>\n",
       "      <th>6</th>\n",
       "      <td>USD</td>\n",
       "      <td>2.978082</td>\n",
       "      <td>0.884508</td>\n",
       "    </tr>\n",
       "    <tr>\n",
       "      <th>7</th>\n",
       "      <td>USD</td>\n",
       "      <td>4.939726</td>\n",
       "      <td>0.813426</td>\n",
       "    </tr>\n",
       "    <tr>\n",
       "      <th>8</th>\n",
       "      <td>USD</td>\n",
       "      <td>6.939726</td>\n",
       "      <td>0.743915</td>\n",
       "    </tr>\n",
       "    <tr>\n",
       "      <th>9</th>\n",
       "      <td>USD</td>\n",
       "      <td>9.983562</td>\n",
       "      <td>0.648657</td>\n",
       "    </tr>\n",
       "    <tr>\n",
       "      <th>10</th>\n",
       "      <td>USD</td>\n",
       "      <td>19.991781</td>\n",
       "      <td>0.398399</td>\n",
       "    </tr>\n",
       "    <tr>\n",
       "      <th>11</th>\n",
       "      <td>USD</td>\n",
       "      <td>29.997260</td>\n",
       "      <td>0.253596</td>\n",
       "    </tr>\n",
       "  </tbody>\n",
       "</table>\n",
       "</div>"
      ],
      "text/plain": [
       "   Currency          T        Df\n",
       "0       USD   0.082192  0.996529\n",
       "1       USD   0.158904  0.993299\n",
       "2       USD   0.241096  0.989885\n",
       "3       USD   0.490411  0.979390\n",
       "4       USD   0.989041  0.960417\n",
       "5       USD   1.936986  0.923436\n",
       "6       USD   2.978082  0.884508\n",
       "7       USD   4.939726  0.813426\n",
       "8       USD   6.939726  0.743915\n",
       "9       USD   9.983562  0.648657\n",
       "10      USD  19.991781  0.398399\n",
       "11      USD  29.997260  0.253596"
      ]
     },
     "execution_count": 11,
     "metadata": {},
     "output_type": "execute_result"
    }
   ],
   "source": [
    "disc_factors[disc_factors.Currency == \"USD\"]"
   ]
  },
  {
   "cell_type": "code",
   "execution_count": 12,
   "id": "7327db30",
   "metadata": {},
   "outputs": [],
   "source": [
    "from utils import Instantaneous_Forward_Rate"
   ]
  },
  {
   "cell_type": "code",
   "execution_count": 13,
   "id": "888d6cd5",
   "metadata": {},
   "outputs": [],
   "source": [
    "StDate = datetime.date(2025, 3, 25) \n",
    "TrDate= datetime.date.today()\n",
    "Tenor = 1.0  \n",
    "curr = \"USD\" \n",
    "StDate\n",
    "data= disc_factors\n"
   ]
  },
  {
   "cell_type": "code",
   "execution_count": 14,
   "id": "a5b50471",
   "metadata": {},
   "outputs": [
    {
     "name": "stdout",
     "output_type": "stream",
     "text": [
      "Help on function Instantaneous_Forward_Rate in module utils:\n",
      "\n",
      "Instantaneous_Forward_Rate(StDate, Tenor, curr, data, TrDate=datetime.date(2025, 2, 22))\n",
      "    interpolation to estimate discount factors at specific times\n",
      "\n"
     ]
    }
   ],
   "source": [
    "help(Instantaneous_Forward_Rate)"
   ]
  },
  {
   "cell_type": "code",
   "execution_count": 15,
   "id": "506f76b8",
   "metadata": {},
   "outputs": [
    {
     "name": "stdout",
     "output_type": "stream",
     "text": [
      "Forward Rate: 0.041536804517859655\n"
     ]
    }
   ],
   "source": [
    "fwd_rate = Instantaneous_Forward_Rate(StDate, Tenor, curr, data)\n",
    "print(\"Forward Rate:\", fwd_rate)"
   ]
  },
  {
   "cell_type": "code",
   "execution_count": 16,
   "id": "454ce629",
   "metadata": {},
   "outputs": [
    {
     "data": {
      "text/plain": [
       "0.043234254706632384"
      ]
     },
     "execution_count": 16,
     "metadata": {},
     "output_type": "execute_result"
    }
   ],
   "source": [
    "Instantaneous_Forward_Rate(datetime.date.today() + datetime.timedelta(days=1800), 0.25, \"USD\", data)"
   ]
  },
  {
   "cell_type": "code",
   "execution_count": 18,
   "id": "f9f312c4",
   "metadata": {},
   "outputs": [],
   "source": [
    "spot = zero_rates[zero_rates[\"Currency\"]==curr][\"Yield\"]\n",
    "fwd3m, fwd6m, fwd1y = [], [], []\n",
    "spottimelist = zero_rates[zero_rates[\"Currency\"]==curr][\"Tenor\"]\n",
    "timelist = np.linspace(0,20,80)\n",
    "for i in timelist:\n",
    "    fwd3m.append(Instantaneous_Forward_Rate(datetime.date.today() + datetime.timedelta(days=i*365), 0.25, \"USD\", data))\n",
    "    fwd6m.append(Instantaneous_Forward_Rate(datetime.date.today() + datetime.timedelta(days=i*365), 0.5, \"USD\", data))\n",
    "    fwd1y.append(Instantaneous_Forward_Rate(datetime.date.today() + datetime.timedelta(days=i*365), 1, \"USD\", data))"
   ]
  },
  {
   "cell_type": "code",
   "execution_count": 21,
   "id": "1092d3ea",
   "metadata": {},
   "outputs": [
    {
     "data": {
      "application/vnd.plotly.v1+json": {
       "config": {
        "plotlyServerURL": "https://plot.ly"
       },
       "data": [
        {
         "mode": "lines",
         "name": "Spot Rate",
         "type": "scatter",
         "x": {
          "bdata": "Di2yne+n6j/HSzeJQWDFPwAAAAAAANA/AAAAAAAA4D8AAAAAAADwPwAAAAAAAABAAAAAAAAACEAAAAAAAAAUQAAAAAAAABxAAAAAAAAAJEAAAAAAAAA0QAAAAAAAAD5A",
          "dtype": "f8"
         },
         "y": {
          "bdata": "YhBYObRIEUB9PzVeukkRQO58PzVeOhFAJzEIrBxaEUB56SYxCKwQQJhuEoPAyhBAhxbZzvfTEED6fmq8dBMRQOxRuB6FaxFA001iEFi5EUDy0k1iENgSQLgehetRuBJA",
          "dtype": "f8"
         }
        },
        {
         "mode": "lines",
         "name": "3M Fwd",
         "type": "scatter",
         "x": {
          "bdata": "AAAAAAAAAABoICod2TPQP2ggKh3ZM+A/nDC/q8VN6D9oICod2TPwP4KodGTPQPQ/nDC/q8VN+D+2uAnzu1r8P2ggKh3ZMwBAdWTPQFQ6AkCCqHRkz0AEQI/sGYhKRwZAnDC/q8VNCECpdGTPQFQKQLa4CfO7WgxAw/yuFjdhDkBoICod2TMQQG7C/K4WNxFAdWTPQFQ6EkB8BqLSkT0TQIKodGTPQBRAiEpH9gxEFUCP7BmISkcWQJaO7BmIShdAnDC/q8VNGECi0pE9A1EZQKl0ZM9AVBpAsBY3YX5XG0C2uAnzu1ocQLxa3IT5XR1Aw/yuFjdhHkDKnoGodGQfQGggKh3ZMyBAa3ET5ne1IEBuwvyuFjchQHIT5ne1uCFAdWTPQFQ6IkB4tbgJ87siQHwGotKRPSNAf1eLmzC/I0CCqHRkz0AkQIX5XS1uwiRAiEpH9gxEJUCMmzC/q8UlQI/sGYhKRyZAkj0DUenIJkCWjuwZiEonQJnf1eImzCdAnDC/q8VNKECfgah0ZM8oQKLSkT0DUSlApiN7BqLSKUCpdGTPQFQqQKzFTZjf1SpAsBY3YX5XK0CzZyAqHdkrQLa4CfO7WixAuQnzu1rcLEC8WtyE+V0tQMCrxU2Y3y1Aw/yuFjdhLkDGTZjf1eIuQMqegah0ZC9Aze9qcRPmL0BoICod2TMwQOrInoGodDBAa3ET5ne1MEDtGYhKR/YwQG7C/K4WNzFA8GpxE+Z3MUByE+Z3tbgxQPO7WtyE+TFAdWTPQFQ6MkD3DESlI3syQHi1uAnzuzJA+l0tbsL8MkB8BqLSkT0zQP2uFjdhfjNAf1eLmzC/M0AAAAAAAAA0QA==",
          "dtype": "f8"
         },
         "y": {
          "bdata": "JzFoHPSyBkBUl3VhlB8RQK+RFSnLZg9ANKI2h4DID0AotoOr/W0QQOisNV15mhBA0i3WHmrHEEDYUwQa4rgQQKHrYJjQaxBARNHH2MSXEECD3cEcJcUQQBoQboHr1BBA1nmHGoqYEECiGTyb7sUQQOGeFBfN8xBAgGLB+CwjEUAAy1HREVMRQD60FVEFhBFAnrq1Wp22EUA/80iOEpARQFI9soA+XhFAdR9/lHGPEUC9zgWEvsERQHdWYaa/9RFAMmVMx2AqEkAEU+uE0WASQMMhtjnxlxJAG6iJE7m6EUB1UleVIh0RQBl4a4HlTBFAN1LzSz9+EUBjjIhbKbARQO8J63kz4xFAfH2UcPoXEkA3oYsXZk0SQJcINceqhBJAwukKoqO8EkDNk9vi8vUSQEdxUkhKMRNAOqOl9wlBEUCfQHWtK1APQDFb4WQLoA9Adjp3vGvyD0Dv8ULuySIQQPh+sqs4TRBA3dmOrwJ5EEC/gZcPPqUQQHgL2Yfo0hBAUc+BeQ4BEUBV8PRUNDARQA3EXA/qYBFA7x13WiySEUD5WSS+FsURQBUykZma+BFAw6hHkEwtEkDEgKjrzmMSQNb6WqwAmxJA7LvpyCDUEkAOC//xAA4TQCFMKjpJSRNAjeDZCrKGE0AU6oNk98QTQMhcpdeCBRRAaj2EmwBHFEDQ+xBeMIoUQAG3TJjlzxRAURp1q7IWFUBerz0GNWAVQLE9EiXsqhVAXoSozbT3FUDyhfgShEcWQDMZgl26mBZAFfuDLTXtFkDPjFkTPkMXQPaJa0rWmxdAGBP0Wx34F0AlkWkQN1YYQN/sTGJRuBhAIFsA/8f2GEBam4ZLDlYNQA==",
          "dtype": "f8"
         }
        },
        {
         "mode": "lines",
         "name": "6M Fwd",
         "type": "scatter",
         "x": {
          "bdata": "AAAAAAAAAABoICod2TPQP2ggKh3ZM+A/nDC/q8VN6D9oICod2TPwP4KodGTPQPQ/nDC/q8VN+D+2uAnzu1r8P2ggKh3ZMwBAdWTPQFQ6AkCCqHRkz0AEQI/sGYhKRwZAnDC/q8VNCECpdGTPQFQKQLa4CfO7WgxAw/yuFjdhDkBoICod2TMQQG7C/K4WNxFAdWTPQFQ6EkB8BqLSkT0TQIKodGTPQBRAiEpH9gxEFUCP7BmISkcWQJaO7BmIShdAnDC/q8VNGECi0pE9A1EZQKl0ZM9AVBpAsBY3YX5XG0C2uAnzu1ocQLxa3IT5XR1Aw/yuFjdhHkDKnoGodGQfQGggKh3ZMyBAa3ET5ne1IEBuwvyuFjchQHIT5ne1uCFAdWTPQFQ6IkB4tbgJ87siQHwGotKRPSNAf1eLmzC/I0CCqHRkz0AkQIX5XS1uwiRAiEpH9gxEJUCMmzC/q8UlQI/sGYhKRyZAkj0DUenIJkCWjuwZiEonQJnf1eImzCdAnDC/q8VNKECfgah0ZM8oQKLSkT0DUSlApiN7BqLSKUCpdGTPQFQqQKzFTZjf1SpAsBY3YX5XK0CzZyAqHdkrQLa4CfO7WixAuQnzu1rcLEC8WtyE+V0tQMCrxU2Y3y1Aw/yuFjdhLkDGTZjf1eIuQMqegah0ZC9Aze9qcRPmL0BoICod2TMwQOrInoGodDBAa3ET5ne1MEDtGYhKR/YwQG7C/K4WNzFA8GpxE+Z3MUByE+Z3tbgxQPO7WtyE+TFAdWTPQFQ6MkD3DESlI3syQHi1uAnzuzJA+l0tbsL8MkB8BqLSkT0zQP2uFjdhfjNAf1eLmzC/M0AAAAAAAAA0QA==",
          "dtype": "f8"
         },
         "y": {
          "bdata": "vrCQSU2bDEC3TgUX1X4QQMh3tjvHvA9A8sclR9Q9EEDgijfboJkQQLq7JFkLxxBAli7w8CnXEEDIVSUd5qcQQEKOTypolxBAwz5wPEjEEEDRL3+7/OMQQLJY6cbkzBBAEdYuphHFEED0MWdZbPMQQMIKpVBGIhFAR3FuyKxSEUDgbx0KnoMRQJjCge+mtRFAUXIK+c68EUC2bCrZF48RQMwIqMYJjxFA9JkzYFTBEUCMH5FSwvQRQIaHQrLxKRJATarPQchfEkA81vvYfJcSQHAQD1V/RRJATboKiL+DEUC063rAgEwRQK1iJfdOfRFASHZ+CcCvEUDKCKzEx+IRQFyeplP5FhJArGecVPVMEkAHVm11nYMSQLHSMHQtvBJA1fPI3Xn1EkD1BaX+KDATQHIsBjyhVxJAkrhLEMuJEEBey64NY58PQBZzn/Pa8A9AeX+PSHIiEEACCa0230wQQE2SxZIteBBAlrZfyuCkEEBkSm88CtIQQCRLUSStABFApu8c4dAvEUAKY9Ld/F8RQJ+ZWGzEkRFAhvufvx7EEUC78/rhLfgRQJLxgVfdLBJA12E5UsViEkAZuE4ljJoSQKkfwFwK0xJAA/wbuYYNE0ADFzAEzEgTQMinfJyGhRNAlfKV1HPEE0DQOwUHSAQUQFHztDJ2RhRAaQkqWqKJFEAn5klukc4UQPvls/YcFhVAMSaYL85eFUCntRYbTqoVQOpr5lsS9xVA9Pk/Q/5FFkCiV2B8DpgWQDAdVWSY6xZAAvsh6odCF0Anm3erGpsXQICKhy5a9hdAkoulsW9VGEAtPOSAcbYYQNpUMW75ExlA/LNuAN3tE0CvLgOqipsNQA==",
          "dtype": "f8"
         }
        },
        {
         "mode": "lines",
         "name": "1Y Fwd",
         "type": "scatter",
         "x": {
          "bdata": "AAAAAAAAAABoICod2TPQP2ggKh3ZM+A/nDC/q8VN6D9oICod2TPwP4KodGTPQPQ/nDC/q8VN+D+2uAnzu1r8P2ggKh3ZMwBAdWTPQFQ6AkCCqHRkz0AEQI/sGYhKRwZAnDC/q8VNCECpdGTPQFQKQLa4CfO7WgxAw/yuFjdhDkBoICod2TMQQG7C/K4WNxFAdWTPQFQ6EkB8BqLSkT0TQIKodGTPQBRAiEpH9gxEFUCP7BmISkcWQJaO7BmIShdAnDC/q8VNGECi0pE9A1EZQKl0ZM9AVBpAsBY3YX5XG0C2uAnzu1ocQLxa3IT5XR1Aw/yuFjdhHkDKnoGodGQfQGggKh3ZMyBAa3ET5ne1IEBuwvyuFjchQHIT5ne1uCFAdWTPQFQ6IkB4tbgJ87siQHwGotKRPSNAf1eLmzC/I0CCqHRkz0AkQIX5XS1uwiRAiEpH9gxEJUCMmzC/q8UlQI/sGYhKRyZAkj0DUenIJkCWjuwZiEonQJnf1eImzCdAnDC/q8VNKECfgah0ZM8oQKLSkT0DUSlApiN7BqLSKUCpdGTPQFQqQKzFTZjf1SpAsBY3YX5XK0CzZyAqHdkrQLa4CfO7WixAuQnzu1rcLEC8WtyE+V0tQMCrxU2Y3y1Aw/yuFjdhLkDGTZjf1eIuQMqegah0ZC9Aze9qcRPmL0BoICod2TMwQOrInoGodDBAa3ET5ne1MEDtGYhKR/YwQG7C/K4WNzFA8GpxE+Z3MUByE+Z3tbgxQPO7WtyE+TFAdWTPQFQ6MkD3DESlI3syQHi1uAnzuzJA+l0tbsL8MkB8BqLSkT0zQP2uFjdhfjNAf1eLmzC/M0AAAAAAAAA0QA==",
          "dtype": "f8"
         },
         "y": {
          "bdata": "GudtLB9zDkA4G0m934cQQNYRyF+KZRBAz9svAGitEECsow75xeUQQD2Pa3yU5BBALw217l/jEECrKV7cJOIQQPFF9Cba6hBAOyJZQfv1EECIEyKEeAERQGaFxaAUDRFA2dlC+PwgEUA9xV8hXFERQPiEkOpFghFA8IuAzdO0EUDzx5C4i9IRQIln56TE1BFAZmQGixDXEUBJqGozY9kRQO9Kg0Xp8xFAlDlykn8oEkDrGoeDTV4SQIpj+hT5lRJA1SV01gSLEkCSQ/0IWkMSQIH4Y8vm+hFALyzP3dqwEUCtBGcbYa4RQK4nb+Jg4RFAnwRtCB0WEkCqzq6cfUsSQEJchewcghJA1dUPsKO6EkD4hxyj5vMSQBpdviMxLxNAwYKxV43kEkAi1F/lPBYSQNT1g/mAQRFAQh3qtsxqEECNNhQ7TiEQQBANoSG1SxBAkwT0+HZ3EEBDoSABqqMQQJKs7NPM0BBAyCFy0mj/EEA0B21/hS4RQGbt6aIxXxFAVQb1H2qQEUDJjn2nvMIRQJUuH6PD9hFAyUynwGorEkBsXfzB4WESQKiupeEHmRJAwGtw1XzREkCPEgp97wsTQAO0ctMqRxNAZd5KEYaEE0BrmIl7vcITQLGswo2GAhRAHxKhCqlEFEA5GzUvyYcUQPYRIf9tzRRACXZ2LSoUFUCDcdngzVwVQHaLKZA/qBVAjV11JPX0FUChneNNsEQWQIwFrdfRlRZAzBVTF0vpFkCXPocGKUAXQPMOY5ipmBdASpsaqtf0F0DASYt811IYQLSs7nPEsxhAgx12yNwYGUBs66v/lLMWQJ9/6vzGKxRADG3/ns6eEUBBLSCHcSoOQA==",
          "dtype": "f8"
         }
        }
       ],
       "layout": {
        "height": 500,
        "template": {
         "data": {
          "bar": [
           {
            "error_x": {
             "color": "#f2f5fa"
            },
            "error_y": {
             "color": "#f2f5fa"
            },
            "marker": {
             "line": {
              "color": "rgb(17,17,17)",
              "width": 0.5
             },
             "pattern": {
              "fillmode": "overlay",
              "size": 10,
              "solidity": 0.2
             }
            },
            "type": "bar"
           }
          ],
          "barpolar": [
           {
            "marker": {
             "line": {
              "color": "rgb(17,17,17)",
              "width": 0.5
             },
             "pattern": {
              "fillmode": "overlay",
              "size": 10,
              "solidity": 0.2
             }
            },
            "type": "barpolar"
           }
          ],
          "carpet": [
           {
            "aaxis": {
             "endlinecolor": "#A2B1C6",
             "gridcolor": "#506784",
             "linecolor": "#506784",
             "minorgridcolor": "#506784",
             "startlinecolor": "#A2B1C6"
            },
            "baxis": {
             "endlinecolor": "#A2B1C6",
             "gridcolor": "#506784",
             "linecolor": "#506784",
             "minorgridcolor": "#506784",
             "startlinecolor": "#A2B1C6"
            },
            "type": "carpet"
           }
          ],
          "choropleth": [
           {
            "colorbar": {
             "outlinewidth": 0,
             "ticks": ""
            },
            "type": "choropleth"
           }
          ],
          "contour": [
           {
            "colorbar": {
             "outlinewidth": 0,
             "ticks": ""
            },
            "colorscale": [
             [
              0,
              "#0d0887"
             ],
             [
              0.1111111111111111,
              "#46039f"
             ],
             [
              0.2222222222222222,
              "#7201a8"
             ],
             [
              0.3333333333333333,
              "#9c179e"
             ],
             [
              0.4444444444444444,
              "#bd3786"
             ],
             [
              0.5555555555555556,
              "#d8576b"
             ],
             [
              0.6666666666666666,
              "#ed7953"
             ],
             [
              0.7777777777777778,
              "#fb9f3a"
             ],
             [
              0.8888888888888888,
              "#fdca26"
             ],
             [
              1,
              "#f0f921"
             ]
            ],
            "type": "contour"
           }
          ],
          "contourcarpet": [
           {
            "colorbar": {
             "outlinewidth": 0,
             "ticks": ""
            },
            "type": "contourcarpet"
           }
          ],
          "heatmap": [
           {
            "colorbar": {
             "outlinewidth": 0,
             "ticks": ""
            },
            "colorscale": [
             [
              0,
              "#0d0887"
             ],
             [
              0.1111111111111111,
              "#46039f"
             ],
             [
              0.2222222222222222,
              "#7201a8"
             ],
             [
              0.3333333333333333,
              "#9c179e"
             ],
             [
              0.4444444444444444,
              "#bd3786"
             ],
             [
              0.5555555555555556,
              "#d8576b"
             ],
             [
              0.6666666666666666,
              "#ed7953"
             ],
             [
              0.7777777777777778,
              "#fb9f3a"
             ],
             [
              0.8888888888888888,
              "#fdca26"
             ],
             [
              1,
              "#f0f921"
             ]
            ],
            "type": "heatmap"
           }
          ],
          "histogram": [
           {
            "marker": {
             "pattern": {
              "fillmode": "overlay",
              "size": 10,
              "solidity": 0.2
             }
            },
            "type": "histogram"
           }
          ],
          "histogram2d": [
           {
            "colorbar": {
             "outlinewidth": 0,
             "ticks": ""
            },
            "colorscale": [
             [
              0,
              "#0d0887"
             ],
             [
              0.1111111111111111,
              "#46039f"
             ],
             [
              0.2222222222222222,
              "#7201a8"
             ],
             [
              0.3333333333333333,
              "#9c179e"
             ],
             [
              0.4444444444444444,
              "#bd3786"
             ],
             [
              0.5555555555555556,
              "#d8576b"
             ],
             [
              0.6666666666666666,
              "#ed7953"
             ],
             [
              0.7777777777777778,
              "#fb9f3a"
             ],
             [
              0.8888888888888888,
              "#fdca26"
             ],
             [
              1,
              "#f0f921"
             ]
            ],
            "type": "histogram2d"
           }
          ],
          "histogram2dcontour": [
           {
            "colorbar": {
             "outlinewidth": 0,
             "ticks": ""
            },
            "colorscale": [
             [
              0,
              "#0d0887"
             ],
             [
              0.1111111111111111,
              "#46039f"
             ],
             [
              0.2222222222222222,
              "#7201a8"
             ],
             [
              0.3333333333333333,
              "#9c179e"
             ],
             [
              0.4444444444444444,
              "#bd3786"
             ],
             [
              0.5555555555555556,
              "#d8576b"
             ],
             [
              0.6666666666666666,
              "#ed7953"
             ],
             [
              0.7777777777777778,
              "#fb9f3a"
             ],
             [
              0.8888888888888888,
              "#fdca26"
             ],
             [
              1,
              "#f0f921"
             ]
            ],
            "type": "histogram2dcontour"
           }
          ],
          "mesh3d": [
           {
            "colorbar": {
             "outlinewidth": 0,
             "ticks": ""
            },
            "type": "mesh3d"
           }
          ],
          "parcoords": [
           {
            "line": {
             "colorbar": {
              "outlinewidth": 0,
              "ticks": ""
             }
            },
            "type": "parcoords"
           }
          ],
          "pie": [
           {
            "automargin": true,
            "type": "pie"
           }
          ],
          "scatter": [
           {
            "marker": {
             "line": {
              "color": "#283442"
             }
            },
            "type": "scatter"
           }
          ],
          "scatter3d": [
           {
            "line": {
             "colorbar": {
              "outlinewidth": 0,
              "ticks": ""
             }
            },
            "marker": {
             "colorbar": {
              "outlinewidth": 0,
              "ticks": ""
             }
            },
            "type": "scatter3d"
           }
          ],
          "scattercarpet": [
           {
            "marker": {
             "colorbar": {
              "outlinewidth": 0,
              "ticks": ""
             }
            },
            "type": "scattercarpet"
           }
          ],
          "scattergeo": [
           {
            "marker": {
             "colorbar": {
              "outlinewidth": 0,
              "ticks": ""
             }
            },
            "type": "scattergeo"
           }
          ],
          "scattergl": [
           {
            "marker": {
             "line": {
              "color": "#283442"
             }
            },
            "type": "scattergl"
           }
          ],
          "scattermap": [
           {
            "marker": {
             "colorbar": {
              "outlinewidth": 0,
              "ticks": ""
             }
            },
            "type": "scattermap"
           }
          ],
          "scattermapbox": [
           {
            "marker": {
             "colorbar": {
              "outlinewidth": 0,
              "ticks": ""
             }
            },
            "type": "scattermapbox"
           }
          ],
          "scatterpolar": [
           {
            "marker": {
             "colorbar": {
              "outlinewidth": 0,
              "ticks": ""
             }
            },
            "type": "scatterpolar"
           }
          ],
          "scatterpolargl": [
           {
            "marker": {
             "colorbar": {
              "outlinewidth": 0,
              "ticks": ""
             }
            },
            "type": "scatterpolargl"
           }
          ],
          "scatterternary": [
           {
            "marker": {
             "colorbar": {
              "outlinewidth": 0,
              "ticks": ""
             }
            },
            "type": "scatterternary"
           }
          ],
          "surface": [
           {
            "colorbar": {
             "outlinewidth": 0,
             "ticks": ""
            },
            "colorscale": [
             [
              0,
              "#0d0887"
             ],
             [
              0.1111111111111111,
              "#46039f"
             ],
             [
              0.2222222222222222,
              "#7201a8"
             ],
             [
              0.3333333333333333,
              "#9c179e"
             ],
             [
              0.4444444444444444,
              "#bd3786"
             ],
             [
              0.5555555555555556,
              "#d8576b"
             ],
             [
              0.6666666666666666,
              "#ed7953"
             ],
             [
              0.7777777777777778,
              "#fb9f3a"
             ],
             [
              0.8888888888888888,
              "#fdca26"
             ],
             [
              1,
              "#f0f921"
             ]
            ],
            "type": "surface"
           }
          ],
          "table": [
           {
            "cells": {
             "fill": {
              "color": "#506784"
             },
             "line": {
              "color": "rgb(17,17,17)"
             }
            },
            "header": {
             "fill": {
              "color": "#2a3f5f"
             },
             "line": {
              "color": "rgb(17,17,17)"
             }
            },
            "type": "table"
           }
          ]
         },
         "layout": {
          "annotationdefaults": {
           "arrowcolor": "#f2f5fa",
           "arrowhead": 0,
           "arrowwidth": 1
          },
          "autotypenumbers": "strict",
          "coloraxis": {
           "colorbar": {
            "outlinewidth": 0,
            "ticks": ""
           }
          },
          "colorscale": {
           "diverging": [
            [
             0,
             "#8e0152"
            ],
            [
             0.1,
             "#c51b7d"
            ],
            [
             0.2,
             "#de77ae"
            ],
            [
             0.3,
             "#f1b6da"
            ],
            [
             0.4,
             "#fde0ef"
            ],
            [
             0.5,
             "#f7f7f7"
            ],
            [
             0.6,
             "#e6f5d0"
            ],
            [
             0.7,
             "#b8e186"
            ],
            [
             0.8,
             "#7fbc41"
            ],
            [
             0.9,
             "#4d9221"
            ],
            [
             1,
             "#276419"
            ]
           ],
           "sequential": [
            [
             0,
             "#0d0887"
            ],
            [
             0.1111111111111111,
             "#46039f"
            ],
            [
             0.2222222222222222,
             "#7201a8"
            ],
            [
             0.3333333333333333,
             "#9c179e"
            ],
            [
             0.4444444444444444,
             "#bd3786"
            ],
            [
             0.5555555555555556,
             "#d8576b"
            ],
            [
             0.6666666666666666,
             "#ed7953"
            ],
            [
             0.7777777777777778,
             "#fb9f3a"
            ],
            [
             0.8888888888888888,
             "#fdca26"
            ],
            [
             1,
             "#f0f921"
            ]
           ],
           "sequentialminus": [
            [
             0,
             "#0d0887"
            ],
            [
             0.1111111111111111,
             "#46039f"
            ],
            [
             0.2222222222222222,
             "#7201a8"
            ],
            [
             0.3333333333333333,
             "#9c179e"
            ],
            [
             0.4444444444444444,
             "#bd3786"
            ],
            [
             0.5555555555555556,
             "#d8576b"
            ],
            [
             0.6666666666666666,
             "#ed7953"
            ],
            [
             0.7777777777777778,
             "#fb9f3a"
            ],
            [
             0.8888888888888888,
             "#fdca26"
            ],
            [
             1,
             "#f0f921"
            ]
           ]
          },
          "colorway": [
           "#636efa",
           "#EF553B",
           "#00cc96",
           "#ab63fa",
           "#FFA15A",
           "#19d3f3",
           "#FF6692",
           "#B6E880",
           "#FF97FF",
           "#FECB52"
          ],
          "font": {
           "color": "#f2f5fa"
          },
          "geo": {
           "bgcolor": "rgb(17,17,17)",
           "lakecolor": "rgb(17,17,17)",
           "landcolor": "rgb(17,17,17)",
           "showlakes": true,
           "showland": true,
           "subunitcolor": "#506784"
          },
          "hoverlabel": {
           "align": "left"
          },
          "hovermode": "closest",
          "mapbox": {
           "style": "dark"
          },
          "paper_bgcolor": "rgb(17,17,17)",
          "plot_bgcolor": "rgb(17,17,17)",
          "polar": {
           "angularaxis": {
            "gridcolor": "#506784",
            "linecolor": "#506784",
            "ticks": ""
           },
           "bgcolor": "rgb(17,17,17)",
           "radialaxis": {
            "gridcolor": "#506784",
            "linecolor": "#506784",
            "ticks": ""
           }
          },
          "scene": {
           "xaxis": {
            "backgroundcolor": "rgb(17,17,17)",
            "gridcolor": "#506784",
            "gridwidth": 2,
            "linecolor": "#506784",
            "showbackground": true,
            "ticks": "",
            "zerolinecolor": "#C8D4E3"
           },
           "yaxis": {
            "backgroundcolor": "rgb(17,17,17)",
            "gridcolor": "#506784",
            "gridwidth": 2,
            "linecolor": "#506784",
            "showbackground": true,
            "ticks": "",
            "zerolinecolor": "#C8D4E3"
           },
           "zaxis": {
            "backgroundcolor": "rgb(17,17,17)",
            "gridcolor": "#506784",
            "gridwidth": 2,
            "linecolor": "#506784",
            "showbackground": true,
            "ticks": "",
            "zerolinecolor": "#C8D4E3"
           }
          },
          "shapedefaults": {
           "line": {
            "color": "#f2f5fa"
           }
          },
          "sliderdefaults": {
           "bgcolor": "#C8D4E3",
           "bordercolor": "rgb(17,17,17)",
           "borderwidth": 1,
           "tickwidth": 0
          },
          "ternary": {
           "aaxis": {
            "gridcolor": "#506784",
            "linecolor": "#506784",
            "ticks": ""
           },
           "baxis": {
            "gridcolor": "#506784",
            "linecolor": "#506784",
            "ticks": ""
           },
           "bgcolor": "rgb(17,17,17)",
           "caxis": {
            "gridcolor": "#506784",
            "linecolor": "#506784",
            "ticks": ""
           }
          },
          "title": {
           "x": 0.05
          },
          "updatemenudefaults": {
           "bgcolor": "#506784",
           "borderwidth": 0
          },
          "xaxis": {
           "automargin": true,
           "gridcolor": "#283442",
           "linecolor": "#506784",
           "ticks": "",
           "title": {
            "standoff": 15
           },
           "zerolinecolor": "#283442",
           "zerolinewidth": 2
          },
          "yaxis": {
           "automargin": true,
           "gridcolor": "#283442",
           "linecolor": "#506784",
           "ticks": "",
           "title": {
            "standoff": 15
           },
           "zerolinecolor": "#283442",
           "zerolinewidth": 2
          }
         }
        },
        "title": {
         "text": "Forward Rate Curves"
        },
        "width": 900,
        "xaxis": {
         "title": {
          "text": "Time to Maturity (Years)"
         }
        },
        "yaxis": {
         "title": {
          "text": "Forward Rate (%)"
         }
        }
       }
      }
     },
     "metadata": {},
     "output_type": "display_data"
    }
   ],
   "source": [
    "fig = go.Figure()\n",
    "\n",
    "\n",
    "fig.add_trace(go.Scatter(x=spottimelist, y=spot, mode='lines', name='Spot Rate'))\n",
    "\n",
    "fig.add_trace(go.Scatter(x=timelist, y=np.dot(fwd3m, 100), mode='lines', name='3M Fwd'))\n",
    "fig.add_trace(go.Scatter(x=timelist, y=np.dot(fwd6m, 100), mode='lines', name='6M Fwd'))\n",
    "fig.add_trace(go.Scatter(x=timelist, y=np.dot(fwd1y, 100), mode='lines', name='1Y Fwd'))\n",
    "\n",
    "fig.update_layout(\n",
    "    title=\"Forward Rate Curves\",\n",
    "    xaxis_title=\"Time to Maturity (Years)\",\n",
    "    yaxis_title=\"Forward Rate (%)\",\n",
    "    template=\"plotly_dark\", \n",
    "    width=900,\n",
    "    height=500\n",
    ")\n",
    "\n",
    "fig.show()"
   ]
  },
  {
   "cell_type": "markdown",
   "id": "cdc5b391",
   "metadata": {},
   "source": [
    "fine-tune the forward rate model(smothing the spike ?!) ...\n"
   ]
  },
  {
   "cell_type": "code",
   "execution_count": 29,
   "id": "5f80c942",
   "metadata": {},
   "outputs": [],
   "source": [
    "curr = \"USD\""
   ]
  },
  {
   "cell_type": "code",
   "execution_count": 30,
   "id": "5775c119",
   "metadata": {},
   "outputs": [
    {
     "data": {
      "text/html": [
       "<div>\n",
       "<style scoped>\n",
       "    .dataframe tbody tr th:only-of-type {\n",
       "        vertical-align: middle;\n",
       "    }\n",
       "\n",
       "    .dataframe tbody tr th {\n",
       "        vertical-align: top;\n",
       "    }\n",
       "\n",
       "    .dataframe thead th {\n",
       "        text-align: right;\n",
       "    }\n",
       "</style>\n",
       "<table border=\"1\" class=\"dataframe\">\n",
       "  <thead>\n",
       "    <tr style=\"text-align: right;\">\n",
       "      <th></th>\n",
       "      <th>Ticker</th>\n",
       "      <th>Maturity</th>\n",
       "      <th>Yield</th>\n",
       "      <th>T</th>\n",
       "      <th>Df</th>\n",
       "      <th>Country</th>\n",
       "      <th>Currency</th>\n",
       "      <th>Tenor</th>\n",
       "    </tr>\n",
       "  </thead>\n",
       "  <tbody>\n",
       "    <tr>\n",
       "      <th>0</th>\n",
       "      <td>US01M</td>\n",
       "      <td>2025-03-25</td>\n",
       "      <td>4.321</td>\n",
       "      <td>0.082192</td>\n",
       "      <td>0.996529</td>\n",
       "      <td>UnitedStates</td>\n",
       "      <td>USD</td>\n",
       "      <td>0.833</td>\n",
       "    </tr>\n",
       "    <tr>\n",
       "      <th>1</th>\n",
       "      <td>US02M</td>\n",
       "      <td>2025-04-22</td>\n",
       "      <td>4.322</td>\n",
       "      <td>0.158904</td>\n",
       "      <td>0.993299</td>\n",
       "      <td>UnitedStates</td>\n",
       "      <td>USD</td>\n",
       "      <td>0.167</td>\n",
       "    </tr>\n",
       "    <tr>\n",
       "      <th>2</th>\n",
       "      <td>US03M</td>\n",
       "      <td>2025-05-22</td>\n",
       "      <td>4.307</td>\n",
       "      <td>0.241096</td>\n",
       "      <td>0.989885</td>\n",
       "      <td>UnitedStates</td>\n",
       "      <td>USD</td>\n",
       "      <td>0.250</td>\n",
       "    </tr>\n",
       "    <tr>\n",
       "      <th>3</th>\n",
       "      <td>US06M</td>\n",
       "      <td>2025-08-21</td>\n",
       "      <td>4.338</td>\n",
       "      <td>0.490411</td>\n",
       "      <td>0.979390</td>\n",
       "      <td>UnitedStates</td>\n",
       "      <td>USD</td>\n",
       "      <td>0.500</td>\n",
       "    </tr>\n",
       "    <tr>\n",
       "      <th>4</th>\n",
       "      <td>US01Y</td>\n",
       "      <td>2026-02-19</td>\n",
       "      <td>4.168</td>\n",
       "      <td>0.989041</td>\n",
       "      <td>0.960417</td>\n",
       "      <td>UnitedStates</td>\n",
       "      <td>USD</td>\n",
       "      <td>1.000</td>\n",
       "    </tr>\n",
       "    <tr>\n",
       "      <th>5</th>\n",
       "      <td>US02Y</td>\n",
       "      <td>2027-01-31</td>\n",
       "      <td>4.198</td>\n",
       "      <td>1.936986</td>\n",
       "      <td>0.923436</td>\n",
       "      <td>UnitedStates</td>\n",
       "      <td>USD</td>\n",
       "      <td>2.000</td>\n",
       "    </tr>\n",
       "    <tr>\n",
       "      <th>6</th>\n",
       "      <td>US03Y</td>\n",
       "      <td>2028-02-15</td>\n",
       "      <td>4.207</td>\n",
       "      <td>2.978082</td>\n",
       "      <td>0.884508</td>\n",
       "      <td>UnitedStates</td>\n",
       "      <td>USD</td>\n",
       "      <td>3.000</td>\n",
       "    </tr>\n",
       "    <tr>\n",
       "      <th>7</th>\n",
       "      <td>US05Y</td>\n",
       "      <td>2030-01-31</td>\n",
       "      <td>4.269</td>\n",
       "      <td>4.939726</td>\n",
       "      <td>0.813426</td>\n",
       "      <td>UnitedStates</td>\n",
       "      <td>USD</td>\n",
       "      <td>5.000</td>\n",
       "    </tr>\n",
       "    <tr>\n",
       "      <th>8</th>\n",
       "      <td>US07Y</td>\n",
       "      <td>2032-01-31</td>\n",
       "      <td>4.355</td>\n",
       "      <td>6.939726</td>\n",
       "      <td>0.743915</td>\n",
       "      <td>UnitedStates</td>\n",
       "      <td>USD</td>\n",
       "      <td>7.000</td>\n",
       "    </tr>\n",
       "    <tr>\n",
       "      <th>9</th>\n",
       "      <td>US10Y</td>\n",
       "      <td>2035-02-15</td>\n",
       "      <td>4.431</td>\n",
       "      <td>9.983562</td>\n",
       "      <td>0.648657</td>\n",
       "      <td>UnitedStates</td>\n",
       "      <td>USD</td>\n",
       "      <td>10.000</td>\n",
       "    </tr>\n",
       "    <tr>\n",
       "      <th>10</th>\n",
       "      <td>US20Y</td>\n",
       "      <td>2045-02-15</td>\n",
       "      <td>4.711</td>\n",
       "      <td>19.991781</td>\n",
       "      <td>0.398399</td>\n",
       "      <td>UnitedStates</td>\n",
       "      <td>USD</td>\n",
       "      <td>20.000</td>\n",
       "    </tr>\n",
       "    <tr>\n",
       "      <th>11</th>\n",
       "      <td>US30Y</td>\n",
       "      <td>2055-02-15</td>\n",
       "      <td>4.680</td>\n",
       "      <td>29.997260</td>\n",
       "      <td>0.253596</td>\n",
       "      <td>UnitedStates</td>\n",
       "      <td>USD</td>\n",
       "      <td>30.000</td>\n",
       "    </tr>\n",
       "  </tbody>\n",
       "</table>\n",
       "</div>"
      ],
      "text/plain": [
       "   Ticker   Maturity  Yield          T        Df       Country Currency  \\\n",
       "0   US01M 2025-03-25  4.321   0.082192  0.996529  UnitedStates      USD   \n",
       "1   US02M 2025-04-22  4.322   0.158904  0.993299  UnitedStates      USD   \n",
       "2   US03M 2025-05-22  4.307   0.241096  0.989885  UnitedStates      USD   \n",
       "3   US06M 2025-08-21  4.338   0.490411  0.979390  UnitedStates      USD   \n",
       "4   US01Y 2026-02-19  4.168   0.989041  0.960417  UnitedStates      USD   \n",
       "5   US02Y 2027-01-31  4.198   1.936986  0.923436  UnitedStates      USD   \n",
       "6   US03Y 2028-02-15  4.207   2.978082  0.884508  UnitedStates      USD   \n",
       "7   US05Y 2030-01-31  4.269   4.939726  0.813426  UnitedStates      USD   \n",
       "8   US07Y 2032-01-31  4.355   6.939726  0.743915  UnitedStates      USD   \n",
       "9   US10Y 2035-02-15  4.431   9.983562  0.648657  UnitedStates      USD   \n",
       "10  US20Y 2045-02-15  4.711  19.991781  0.398399  UnitedStates      USD   \n",
       "11  US30Y 2055-02-15  4.680  29.997260  0.253596  UnitedStates      USD   \n",
       "\n",
       "     Tenor  \n",
       "0    0.833  \n",
       "1    0.167  \n",
       "2    0.250  \n",
       "3    0.500  \n",
       "4    1.000  \n",
       "5    2.000  \n",
       "6    3.000  \n",
       "7    5.000  \n",
       "8    7.000  \n",
       "9   10.000  \n",
       "10  20.000  \n",
       "11  30.000  "
      ]
     },
     "execution_count": 30,
     "metadata": {},
     "output_type": "execute_result"
    }
   ],
   "source": [
    "zero_rates[zero_rates[\"Currency\"]==curr]"
   ]
  },
  {
   "cell_type": "code",
   "execution_count": 22,
   "id": "f4c43b23",
   "metadata": {},
   "outputs": [
    {
     "data": {
      "text/plain": [
       "0.0821917808219178"
      ]
     },
     "execution_count": 22,
     "metadata": {},
     "output_type": "execute_result"
    }
   ],
   "source": [
    "zero_rates[\"T\"][0] "
   ]
  },
  {
   "cell_type": "code",
   "execution_count": 23,
   "id": "3b0d536c",
   "metadata": {},
   "outputs": [
    {
     "data": {
      "text/plain": [
       "datetime.date(2025, 2, 27)"
      ]
     },
     "execution_count": 23,
     "metadata": {},
     "output_type": "execute_result"
    }
   ],
   "source": [
    "datetime.date.today() + datetime.timedelta(days=5)"
   ]
  },
  {
   "cell_type": "code",
   "execution_count": 24,
   "id": "69ff978e",
   "metadata": {
    "scrolled": true
   },
   "outputs": [
    {
     "data": {
      "text/plain": [
       "datetime.datetime(2025, 3, 24, 18, 43, 44, 884447)"
      ]
     },
     "execution_count": 24,
     "metadata": {},
     "output_type": "execute_result"
    }
   ],
   "source": [
    "datetime.datetime.now() + datetime.timedelta(days=zero_rates[\"T\"][0] *365)"
   ]
  },
  {
   "cell_type": "code",
   "execution_count": 25,
   "id": "3c43994b",
   "metadata": {},
   "outputs": [
    {
     "data": {
      "text/html": [
       "<div>\n",
       "<style scoped>\n",
       "    .dataframe tbody tr th:only-of-type {\n",
       "        vertical-align: middle;\n",
       "    }\n",
       "\n",
       "    .dataframe tbody tr th {\n",
       "        vertical-align: top;\n",
       "    }\n",
       "\n",
       "    .dataframe thead th {\n",
       "        text-align: right;\n",
       "    }\n",
       "</style>\n",
       "<table border=\"1\" class=\"dataframe\">\n",
       "  <thead>\n",
       "    <tr style=\"text-align: right;\">\n",
       "      <th></th>\n",
       "      <th>Date</th>\n",
       "      <th>1 Mo</th>\n",
       "      <th>2 Mo</th>\n",
       "      <th>3 Mo</th>\n",
       "      <th>6 Mo</th>\n",
       "      <th>1 Yr</th>\n",
       "      <th>2 Yr</th>\n",
       "      <th>3 Yr</th>\n",
       "      <th>5 Yr</th>\n",
       "      <th>7 Yr</th>\n",
       "      <th>10 Yr</th>\n",
       "      <th>20 Yr</th>\n",
       "      <th>30 Yr</th>\n",
       "    </tr>\n",
       "  </thead>\n",
       "  <tbody>\n",
       "    <tr>\n",
       "      <th>0</th>\n",
       "      <td>02/28/2022</td>\n",
       "      <td>0.06</td>\n",
       "      <td>0.20</td>\n",
       "      <td>0.35</td>\n",
       "      <td>0.69</td>\n",
       "      <td>1.01</td>\n",
       "      <td>1.44</td>\n",
       "      <td>1.62</td>\n",
       "      <td>1.71</td>\n",
       "      <td>1.81</td>\n",
       "      <td>1.83</td>\n",
       "      <td>2.25</td>\n",
       "      <td>2.17</td>\n",
       "    </tr>\n",
       "    <tr>\n",
       "      <th>1</th>\n",
       "      <td>02/25/2022</td>\n",
       "      <td>0.03</td>\n",
       "      <td>0.20</td>\n",
       "      <td>0.33</td>\n",
       "      <td>0.71</td>\n",
       "      <td>1.13</td>\n",
       "      <td>1.55</td>\n",
       "      <td>1.76</td>\n",
       "      <td>1.86</td>\n",
       "      <td>1.96</td>\n",
       "      <td>1.97</td>\n",
       "      <td>2.37</td>\n",
       "      <td>2.29</td>\n",
       "    </tr>\n",
       "    <tr>\n",
       "      <th>2</th>\n",
       "      <td>02/24/2022</td>\n",
       "      <td>0.05</td>\n",
       "      <td>0.18</td>\n",
       "      <td>0.32</td>\n",
       "      <td>0.65</td>\n",
       "      <td>1.08</td>\n",
       "      <td>1.54</td>\n",
       "      <td>1.73</td>\n",
       "      <td>1.84</td>\n",
       "      <td>1.94</td>\n",
       "      <td>1.96</td>\n",
       "      <td>2.36</td>\n",
       "      <td>2.28</td>\n",
       "    </tr>\n",
       "    <tr>\n",
       "      <th>3</th>\n",
       "      <td>02/23/2022</td>\n",
       "      <td>0.02</td>\n",
       "      <td>0.20</td>\n",
       "      <td>0.34</td>\n",
       "      <td>0.74</td>\n",
       "      <td>1.16</td>\n",
       "      <td>1.58</td>\n",
       "      <td>1.78</td>\n",
       "      <td>1.89</td>\n",
       "      <td>1.98</td>\n",
       "      <td>1.99</td>\n",
       "      <td>2.36</td>\n",
       "      <td>2.29</td>\n",
       "    </tr>\n",
       "    <tr>\n",
       "      <th>4</th>\n",
       "      <td>02/22/2022</td>\n",
       "      <td>0.03</td>\n",
       "      <td>0.20</td>\n",
       "      <td>0.37</td>\n",
       "      <td>0.73</td>\n",
       "      <td>1.17</td>\n",
       "      <td>1.56</td>\n",
       "      <td>1.74</td>\n",
       "      <td>1.85</td>\n",
       "      <td>1.93</td>\n",
       "      <td>1.94</td>\n",
       "      <td>2.31</td>\n",
       "      <td>2.24</td>\n",
       "    </tr>\n",
       "    <tr>\n",
       "      <th>5</th>\n",
       "      <td>02/18/2022</td>\n",
       "      <td>0.03</td>\n",
       "      <td>0.19</td>\n",
       "      <td>0.35</td>\n",
       "      <td>0.65</td>\n",
       "      <td>1.03</td>\n",
       "      <td>1.47</td>\n",
       "      <td>1.68</td>\n",
       "      <td>1.82</td>\n",
       "      <td>1.90</td>\n",
       "      <td>1.92</td>\n",
       "      <td>2.30</td>\n",
       "      <td>2.24</td>\n",
       "    </tr>\n",
       "    <tr>\n",
       "      <th>6</th>\n",
       "      <td>02/17/2022</td>\n",
       "      <td>0.06</td>\n",
       "      <td>0.23</td>\n",
       "      <td>0.36</td>\n",
       "      <td>0.65</td>\n",
       "      <td>1.05</td>\n",
       "      <td>1.49</td>\n",
       "      <td>1.70</td>\n",
       "      <td>1.85</td>\n",
       "      <td>1.94</td>\n",
       "      <td>1.97</td>\n",
       "      <td>2.35</td>\n",
       "      <td>2.31</td>\n",
       "    </tr>\n",
       "    <tr>\n",
       "      <th>7</th>\n",
       "      <td>02/16/2022</td>\n",
       "      <td>0.03</td>\n",
       "      <td>0.17</td>\n",
       "      <td>0.38</td>\n",
       "      <td>0.67</td>\n",
       "      <td>1.09</td>\n",
       "      <td>1.52</td>\n",
       "      <td>1.75</td>\n",
       "      <td>1.90</td>\n",
       "      <td>2.00</td>\n",
       "      <td>2.03</td>\n",
       "      <td>2.39</td>\n",
       "      <td>2.34</td>\n",
       "    </tr>\n",
       "    <tr>\n",
       "      <th>8</th>\n",
       "      <td>02/15/2022</td>\n",
       "      <td>0.02</td>\n",
       "      <td>0.19</td>\n",
       "      <td>0.40</td>\n",
       "      <td>0.72</td>\n",
       "      <td>1.11</td>\n",
       "      <td>1.58</td>\n",
       "      <td>1.80</td>\n",
       "      <td>1.94</td>\n",
       "      <td>2.03</td>\n",
       "      <td>2.05</td>\n",
       "      <td>2.42</td>\n",
       "      <td>2.37</td>\n",
       "    </tr>\n",
       "    <tr>\n",
       "      <th>9</th>\n",
       "      <td>02/14/2022</td>\n",
       "      <td>0.03</td>\n",
       "      <td>0.25</td>\n",
       "      <td>0.43</td>\n",
       "      <td>0.76</td>\n",
       "      <td>1.13</td>\n",
       "      <td>1.58</td>\n",
       "      <td>1.80</td>\n",
       "      <td>1.90</td>\n",
       "      <td>1.98</td>\n",
       "      <td>1.98</td>\n",
       "      <td>2.35</td>\n",
       "      <td>2.29</td>\n",
       "    </tr>\n",
       "    <tr>\n",
       "      <th>10</th>\n",
       "      <td>02/11/2022</td>\n",
       "      <td>0.03</td>\n",
       "      <td>0.22</td>\n",
       "      <td>0.36</td>\n",
       "      <td>0.71</td>\n",
       "      <td>1.07</td>\n",
       "      <td>1.50</td>\n",
       "      <td>1.71</td>\n",
       "      <td>1.84</td>\n",
       "      <td>1.92</td>\n",
       "      <td>1.92</td>\n",
       "      <td>2.30</td>\n",
       "      <td>2.24</td>\n",
       "    </tr>\n",
       "    <tr>\n",
       "      <th>11</th>\n",
       "      <td>02/10/2022</td>\n",
       "      <td>0.05</td>\n",
       "      <td>0.31</td>\n",
       "      <td>0.40</td>\n",
       "      <td>0.74</td>\n",
       "      <td>1.14</td>\n",
       "      <td>1.61</td>\n",
       "      <td>1.82</td>\n",
       "      <td>1.96</td>\n",
       "      <td>2.03</td>\n",
       "      <td>2.03</td>\n",
       "      <td>2.37</td>\n",
       "      <td>2.30</td>\n",
       "    </tr>\n",
       "    <tr>\n",
       "      <th>12</th>\n",
       "      <td>02/09/2022</td>\n",
       "      <td>0.04</td>\n",
       "      <td>0.15</td>\n",
       "      <td>0.26</td>\n",
       "      <td>0.57</td>\n",
       "      <td>0.91</td>\n",
       "      <td>1.36</td>\n",
       "      <td>1.61</td>\n",
       "      <td>1.82</td>\n",
       "      <td>1.92</td>\n",
       "      <td>1.94</td>\n",
       "      <td>2.31</td>\n",
       "      <td>2.25</td>\n",
       "    </tr>\n",
       "    <tr>\n",
       "      <th>13</th>\n",
       "      <td>02/08/2022</td>\n",
       "      <td>0.03</td>\n",
       "      <td>0.14</td>\n",
       "      <td>0.25</td>\n",
       "      <td>0.59</td>\n",
       "      <td>0.91</td>\n",
       "      <td>1.35</td>\n",
       "      <td>1.59</td>\n",
       "      <td>1.81</td>\n",
       "      <td>1.93</td>\n",
       "      <td>1.96</td>\n",
       "      <td>2.31</td>\n",
       "      <td>2.25</td>\n",
       "    </tr>\n",
       "    <tr>\n",
       "      <th>14</th>\n",
       "      <td>02/07/2022</td>\n",
       "      <td>0.03</td>\n",
       "      <td>0.14</td>\n",
       "      <td>0.27</td>\n",
       "      <td>0.58</td>\n",
       "      <td>0.88</td>\n",
       "      <td>1.30</td>\n",
       "      <td>1.54</td>\n",
       "      <td>1.76</td>\n",
       "      <td>1.88</td>\n",
       "      <td>1.92</td>\n",
       "      <td>2.28</td>\n",
       "      <td>2.22</td>\n",
       "    </tr>\n",
       "    <tr>\n",
       "      <th>15</th>\n",
       "      <td>02/04/2022</td>\n",
       "      <td>0.05</td>\n",
       "      <td>0.12</td>\n",
       "      <td>0.23</td>\n",
       "      <td>0.56</td>\n",
       "      <td>0.89</td>\n",
       "      <td>1.31</td>\n",
       "      <td>1.55</td>\n",
       "      <td>1.78</td>\n",
       "      <td>1.90</td>\n",
       "      <td>1.93</td>\n",
       "      <td>2.29</td>\n",
       "      <td>2.23</td>\n",
       "    </tr>\n",
       "    <tr>\n",
       "      <th>16</th>\n",
       "      <td>02/03/2022</td>\n",
       "      <td>0.03</td>\n",
       "      <td>0.15</td>\n",
       "      <td>0.20</td>\n",
       "      <td>0.48</td>\n",
       "      <td>0.78</td>\n",
       "      <td>1.19</td>\n",
       "      <td>1.42</td>\n",
       "      <td>1.66</td>\n",
       "      <td>1.78</td>\n",
       "      <td>1.82</td>\n",
       "      <td>2.20</td>\n",
       "      <td>2.14</td>\n",
       "    </tr>\n",
       "    <tr>\n",
       "      <th>17</th>\n",
       "      <td>02/02/2022</td>\n",
       "      <td>0.04</td>\n",
       "      <td>0.10</td>\n",
       "      <td>0.19</td>\n",
       "      <td>0.45</td>\n",
       "      <td>0.76</td>\n",
       "      <td>1.16</td>\n",
       "      <td>1.38</td>\n",
       "      <td>1.60</td>\n",
       "      <td>1.74</td>\n",
       "      <td>1.78</td>\n",
       "      <td>2.17</td>\n",
       "      <td>2.11</td>\n",
       "    </tr>\n",
       "    <tr>\n",
       "      <th>18</th>\n",
       "      <td>02/01/2022</td>\n",
       "      <td>0.04</td>\n",
       "      <td>0.10</td>\n",
       "      <td>0.19</td>\n",
       "      <td>0.48</td>\n",
       "      <td>0.78</td>\n",
       "      <td>1.18</td>\n",
       "      <td>1.39</td>\n",
       "      <td>1.63</td>\n",
       "      <td>1.76</td>\n",
       "      <td>1.81</td>\n",
       "      <td>2.19</td>\n",
       "      <td>2.12</td>\n",
       "    </tr>\n",
       "  </tbody>\n",
       "</table>\n",
       "</div>"
      ],
      "text/plain": [
       "          Date  1 Mo  2 Mo  3 Mo  6 Mo  1 Yr  2 Yr  3 Yr  5 Yr  7 Yr  10 Yr  \\\n",
       "0   02/28/2022  0.06  0.20  0.35  0.69  1.01  1.44  1.62  1.71  1.81   1.83   \n",
       "1   02/25/2022  0.03  0.20  0.33  0.71  1.13  1.55  1.76  1.86  1.96   1.97   \n",
       "2   02/24/2022  0.05  0.18  0.32  0.65  1.08  1.54  1.73  1.84  1.94   1.96   \n",
       "3   02/23/2022  0.02  0.20  0.34  0.74  1.16  1.58  1.78  1.89  1.98   1.99   \n",
       "4   02/22/2022  0.03  0.20  0.37  0.73  1.17  1.56  1.74  1.85  1.93   1.94   \n",
       "5   02/18/2022  0.03  0.19  0.35  0.65  1.03  1.47  1.68  1.82  1.90   1.92   \n",
       "6   02/17/2022  0.06  0.23  0.36  0.65  1.05  1.49  1.70  1.85  1.94   1.97   \n",
       "7   02/16/2022  0.03  0.17  0.38  0.67  1.09  1.52  1.75  1.90  2.00   2.03   \n",
       "8   02/15/2022  0.02  0.19  0.40  0.72  1.11  1.58  1.80  1.94  2.03   2.05   \n",
       "9   02/14/2022  0.03  0.25  0.43  0.76  1.13  1.58  1.80  1.90  1.98   1.98   \n",
       "10  02/11/2022  0.03  0.22  0.36  0.71  1.07  1.50  1.71  1.84  1.92   1.92   \n",
       "11  02/10/2022  0.05  0.31  0.40  0.74  1.14  1.61  1.82  1.96  2.03   2.03   \n",
       "12  02/09/2022  0.04  0.15  0.26  0.57  0.91  1.36  1.61  1.82  1.92   1.94   \n",
       "13  02/08/2022  0.03  0.14  0.25  0.59  0.91  1.35  1.59  1.81  1.93   1.96   \n",
       "14  02/07/2022  0.03  0.14  0.27  0.58  0.88  1.30  1.54  1.76  1.88   1.92   \n",
       "15  02/04/2022  0.05  0.12  0.23  0.56  0.89  1.31  1.55  1.78  1.90   1.93   \n",
       "16  02/03/2022  0.03  0.15  0.20  0.48  0.78  1.19  1.42  1.66  1.78   1.82   \n",
       "17  02/02/2022  0.04  0.10  0.19  0.45  0.76  1.16  1.38  1.60  1.74   1.78   \n",
       "18  02/01/2022  0.04  0.10  0.19  0.48  0.78  1.18  1.39  1.63  1.76   1.81   \n",
       "\n",
       "    20 Yr  30 Yr  \n",
       "0    2.25   2.17  \n",
       "1    2.37   2.29  \n",
       "2    2.36   2.28  \n",
       "3    2.36   2.29  \n",
       "4    2.31   2.24  \n",
       "5    2.30   2.24  \n",
       "6    2.35   2.31  \n",
       "7    2.39   2.34  \n",
       "8    2.42   2.37  \n",
       "9    2.35   2.29  \n",
       "10   2.30   2.24  \n",
       "11   2.37   2.30  \n",
       "12   2.31   2.25  \n",
       "13   2.31   2.25  \n",
       "14   2.28   2.22  \n",
       "15   2.29   2.23  \n",
       "16   2.20   2.14  \n",
       "17   2.17   2.11  \n",
       "18   2.19   2.12  "
      ]
     },
     "execution_count": 25,
     "metadata": {},
     "output_type": "execute_result"
    }
   ],
   "source": [
    "pd.read_csv('https://home.treasury.gov/resource-center/data-chart-center/interest-rates/daily-treasury-rates.csv/all/202202?type=daily_treasury_yield_curve&field_tdr_date_value_month=202202&page&_format=csv')\n"
   ]
  },
  {
   "cell_type": "code",
   "execution_count": null,
   "id": "6b1409d1",
   "metadata": {},
   "outputs": [],
   "source": []
  }
 ],
 "metadata": {
  "kernelspec": {
   "display_name": "interp",
   "language": "python",
   "name": "python3"
  },
  "language_info": {
   "codemirror_mode": {
    "name": "ipython",
    "version": 3
   },
   "file_extension": ".py",
   "mimetype": "text/x-python",
   "name": "python",
   "nbconvert_exporter": "python",
   "pygments_lexer": "ipython3",
   "version": "3.8.12"
  }
 },
 "nbformat": 4,
 "nbformat_minor": 5
}
